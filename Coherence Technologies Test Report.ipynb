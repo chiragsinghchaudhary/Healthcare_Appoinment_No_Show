{
 "cells": [
  {
   "cell_type": "code",
   "execution_count": 1,
   "metadata": {},
   "outputs": [],
   "source": [
    "# Importing all libraries required in this notebook\n",
    "import pandas as pd\n",
    "import numpy as np  \n",
    "import matplotlib.pyplot as plt\n",
    "import seaborn as sns"
   ]
  },
  {
   "cell_type": "code",
   "execution_count": 2,
   "metadata": {},
   "outputs": [],
   "source": [
    "#read data\n",
    "sreport= pd.read_excel('E:/Scheduling Report.xlsx')"
   ]
  },
  {
   "cell_type": "code",
   "execution_count": 3,
   "metadata": {},
   "outputs": [
    {
     "data": {
      "text/html": [
       "<div>\n",
       "<style scoped>\n",
       "    .dataframe tbody tr th:only-of-type {\n",
       "        vertical-align: middle;\n",
       "    }\n",
       "\n",
       "    .dataframe tbody tr th {\n",
       "        vertical-align: top;\n",
       "    }\n",
       "\n",
       "    .dataframe thead th {\n",
       "        text-align: right;\n",
       "    }\n",
       "</style>\n",
       "<table border=\"1\" class=\"dataframe\">\n",
       "  <thead>\n",
       "    <tr style=\"text-align: right;\">\n",
       "      <th></th>\n",
       "      <th>Bt Nbr</th>\n",
       "      <th>Per Nbr</th>\n",
       "      <th>Md Rc</th>\n",
       "      <th>Dt of Svc</th>\n",
       "      <th>CPT4</th>\n",
       "      <th>CPT4 Desc</th>\n",
       "      <th>Department</th>\n",
       "      <th>Component</th>\n",
       "      <th>Payer Name</th>\n",
       "    </tr>\n",
       "  </thead>\n",
       "  <tbody>\n",
       "    <tr>\n",
       "      <td>0</td>\n",
       "      <td>305</td>\n",
       "      <td>21</td>\n",
       "      <td>4129363</td>\n",
       "      <td>2019-11-05</td>\n",
       "      <td>97032</td>\n",
       "      <td>ELECTRICAL STIMULATION</td>\n",
       "      <td>Medicine</td>\n",
       "      <td>Professional</td>\n",
       "      <td>UHC WellMed WELM2</td>\n",
       "    </tr>\n",
       "    <tr>\n",
       "      <td>1</td>\n",
       "      <td>251</td>\n",
       "      <td>26</td>\n",
       "      <td>493273697</td>\n",
       "      <td>2020-03-06</td>\n",
       "      <td>99000</td>\n",
       "      <td>SPECIMEN HANDLING OFFICE-LAB</td>\n",
       "      <td>Medicine</td>\n",
       "      <td>Professional</td>\n",
       "      <td>United Health Care</td>\n",
       "    </tr>\n",
       "    <tr>\n",
       "      <td>2</td>\n",
       "      <td>251</td>\n",
       "      <td>26</td>\n",
       "      <td>493273697</td>\n",
       "      <td>2020-03-06</td>\n",
       "      <td>81002</td>\n",
       "      <td>URINALYSIS NONAUTO W/O SCOPE</td>\n",
       "      <td>Laboratory</td>\n",
       "      <td>Professional</td>\n",
       "      <td>United Health Care</td>\n",
       "    </tr>\n",
       "    <tr>\n",
       "      <td>3</td>\n",
       "      <td>251</td>\n",
       "      <td>26</td>\n",
       "      <td>493273697</td>\n",
       "      <td>2020-03-06</td>\n",
       "      <td>99213</td>\n",
       "      <td>OFFICE/OUTPATIENT VISIT EST</td>\n",
       "      <td>E/M Service</td>\n",
       "      <td>Global</td>\n",
       "      <td>United Health Care</td>\n",
       "    </tr>\n",
       "    <tr>\n",
       "      <td>4</td>\n",
       "      <td>129</td>\n",
       "      <td>33</td>\n",
       "      <td>4131679</td>\n",
       "      <td>2019-01-15</td>\n",
       "      <td>99396</td>\n",
       "      <td>PREV VISIT EST AGE 40-64</td>\n",
       "      <td>E/M Preventive Medicine</td>\n",
       "      <td>Professional</td>\n",
       "      <td>Cigna Local Plus Open Access PPO</td>\n",
       "    </tr>\n",
       "    <tr>\n",
       "      <td>...</td>\n",
       "      <td>...</td>\n",
       "      <td>...</td>\n",
       "      <td>...</td>\n",
       "      <td>...</td>\n",
       "      <td>...</td>\n",
       "      <td>...</td>\n",
       "      <td>...</td>\n",
       "      <td>...</td>\n",
       "      <td>...</td>\n",
       "    </tr>\n",
       "    <tr>\n",
       "      <td>42361</td>\n",
       "      <td>324</td>\n",
       "      <td>1424144</td>\n",
       "      <td>734299</td>\n",
       "      <td>2020-03-19</td>\n",
       "      <td>99225</td>\n",
       "      <td>SUBSEQUENT OBSERVATION CARE</td>\n",
       "      <td>E/M Service Facility</td>\n",
       "      <td>Global</td>\n",
       "      <td>Humana Gold Plus HMO</td>\n",
       "    </tr>\n",
       "    <tr>\n",
       "      <td>42362</td>\n",
       "      <td>324</td>\n",
       "      <td>1424144</td>\n",
       "      <td>734299</td>\n",
       "      <td>2020-03-17</td>\n",
       "      <td>99220</td>\n",
       "      <td>INITIAL OBSERVATION CARE</td>\n",
       "      <td>E/M Service</td>\n",
       "      <td>Professional</td>\n",
       "      <td>Humana Gold Plus HMO</td>\n",
       "    </tr>\n",
       "    <tr>\n",
       "      <td>42363</td>\n",
       "      <td>212</td>\n",
       "      <td>1424197</td>\n",
       "      <td>734112</td>\n",
       "      <td>2020-03-27</td>\n",
       "      <td>99203</td>\n",
       "      <td>OFFICE/OUTPATIENT VISIT NEW</td>\n",
       "      <td>E/M Service</td>\n",
       "      <td>Global</td>\n",
       "      <td>Blue Cross Blue Shield</td>\n",
       "    </tr>\n",
       "    <tr>\n",
       "      <td>42364</td>\n",
       "      <td>179</td>\n",
       "      <td>1424942</td>\n",
       "      <td>734767</td>\n",
       "      <td>2020-03-26</td>\n",
       "      <td>99204</td>\n",
       "      <td>OFFICE/OUTPATIENT VISIT NEW</td>\n",
       "      <td>E/M Service</td>\n",
       "      <td>Professional</td>\n",
       "      <td>Medicare</td>\n",
       "    </tr>\n",
       "    <tr>\n",
       "      <td>42365</td>\n",
       "      <td>179</td>\n",
       "      <td>1424942</td>\n",
       "      <td>734767</td>\n",
       "      <td>2020-03-26</td>\n",
       "      <td>93970</td>\n",
       "      <td>EXTREMITY STUDY</td>\n",
       "      <td>Medicine</td>\n",
       "      <td>Professional</td>\n",
       "      <td>Medicare</td>\n",
       "    </tr>\n",
       "  </tbody>\n",
       "</table>\n",
       "<p>42366 rows × 9 columns</p>\n",
       "</div>"
      ],
      "text/plain": [
       "       Bt Nbr  Per Nbr      Md Rc  Dt of Svc   CPT4  \\\n",
       "0         305       21    4129363 2019-11-05  97032   \n",
       "1         251       26  493273697 2020-03-06  99000   \n",
       "2         251       26  493273697 2020-03-06  81002   \n",
       "3         251       26  493273697 2020-03-06  99213   \n",
       "4         129       33    4131679 2019-01-15  99396   \n",
       "...       ...      ...        ...        ...    ...   \n",
       "42361     324  1424144     734299 2020-03-19  99225   \n",
       "42362     324  1424144     734299 2020-03-17  99220   \n",
       "42363     212  1424197     734112 2020-03-27  99203   \n",
       "42364     179  1424942     734767 2020-03-26  99204   \n",
       "42365     179  1424942     734767 2020-03-26  93970   \n",
       "\n",
       "                          CPT4 Desc               Department     Component  \\\n",
       "0            ELECTRICAL STIMULATION                 Medicine  Professional   \n",
       "1      SPECIMEN HANDLING OFFICE-LAB                 Medicine  Professional   \n",
       "2      URINALYSIS NONAUTO W/O SCOPE               Laboratory  Professional   \n",
       "3       OFFICE/OUTPATIENT VISIT EST              E/M Service        Global   \n",
       "4          PREV VISIT EST AGE 40-64  E/M Preventive Medicine  Professional   \n",
       "...                             ...                      ...           ...   \n",
       "42361   SUBSEQUENT OBSERVATION CARE     E/M Service Facility        Global   \n",
       "42362      INITIAL OBSERVATION CARE              E/M Service  Professional   \n",
       "42363   OFFICE/OUTPATIENT VISIT NEW              E/M Service        Global   \n",
       "42364   OFFICE/OUTPATIENT VISIT NEW              E/M Service  Professional   \n",
       "42365               EXTREMITY STUDY                 Medicine  Professional   \n",
       "\n",
       "                             Payer Name  \n",
       "0                     UHC WellMed WELM2  \n",
       "1                    United Health Care  \n",
       "2                    United Health Care  \n",
       "3                    United Health Care  \n",
       "4      Cigna Local Plus Open Access PPO  \n",
       "...                                 ...  \n",
       "42361              Humana Gold Plus HMO  \n",
       "42362              Humana Gold Plus HMO  \n",
       "42363            Blue Cross Blue Shield  \n",
       "42364                          Medicare  \n",
       "42365                          Medicare  \n",
       "\n",
       "[42366 rows x 9 columns]"
      ]
     },
     "execution_count": 3,
     "metadata": {},
     "output_type": "execute_result"
    }
   ],
   "source": [
    "sreport"
   ]
  },
  {
   "cell_type": "code",
   "execution_count": 4,
   "metadata": {},
   "outputs": [
    {
     "data": {
      "text/plain": [
       "Bt Nbr          0\n",
       "Per Nbr         0\n",
       "Md Rc         340\n",
       "Dt of Svc       0\n",
       "CPT4            0\n",
       "CPT4 Desc       0\n",
       "Department    949\n",
       "Component     238\n",
       "Payer Name      0\n",
       "dtype: int64"
      ]
     },
     "execution_count": 4,
     "metadata": {},
     "output_type": "execute_result"
    }
   ],
   "source": [
    "#check nullvalues\n",
    "sreport.isnull().sum()"
   ]
  },
  {
   "cell_type": "code",
   "execution_count": 5,
   "metadata": {},
   "outputs": [
    {
     "data": {
      "text/plain": [
       "1527"
      ]
     },
     "execution_count": 5,
     "metadata": {},
     "output_type": "execute_result"
    }
   ],
   "source": [
    "sreport.isnull().sum().sum()"
   ]
  },
  {
   "cell_type": "code",
   "execution_count": 6,
   "metadata": {},
   "outputs": [
    {
     "name": "stdout",
     "output_type": "stream",
     "text": [
      "<class 'pandas.core.frame.DataFrame'>\n",
      "RangeIndex: 42366 entries, 0 to 42365\n",
      "Data columns (total 9 columns):\n",
      "Bt Nbr        42366 non-null int64\n",
      "Per Nbr       42366 non-null int64\n",
      "Md Rc         42026 non-null object\n",
      "Dt of Svc     42366 non-null datetime64[ns]\n",
      "CPT4          42366 non-null object\n",
      "CPT4 Desc     42366 non-null object\n",
      "Department    41417 non-null object\n",
      "Component     42128 non-null object\n",
      "Payer Name    42366 non-null object\n",
      "dtypes: datetime64[ns](1), int64(2), object(6)\n",
      "memory usage: 2.9+ MB\n"
     ]
    }
   ],
   "source": [
    "sreport.info()"
   ]
  },
  {
   "cell_type": "code",
   "execution_count": 7,
   "metadata": {},
   "outputs": [
    {
     "data": {
      "text/plain": [
       "<matplotlib.axes._subplots.AxesSubplot at 0x249d4c70108>"
      ]
     },
     "execution_count": 7,
     "metadata": {},
     "output_type": "execute_result"
    },
    {
     "data": {
      "image/png": "[encoded data removed]",
      "text/plain": [
       "<Figure size 1152x1008 with 2 Axes>"
      ]
     },
     "metadata": {
      "needs_background": "light"
     },
     "output_type": "display_data"
    }
   ],
   "source": [
    "#show null value with the help of heatmap\n",
    "fig, ax= plt.subplots(figsize=(16,14))\n",
    "sns.heatmap(sreport.isnull().corr(),annot=True)"
   ]
  },
  {
   "cell_type": "code",
   "execution_count": 8,
   "metadata": {},
   "outputs": [],
   "source": [
    "#put null Value in Variable 'a'\n",
    "b=sreport.isnull().sum()"
   ]
  },
  {
   "cell_type": "code",
   "execution_count": 9,
   "metadata": {},
   "outputs": [
    {
     "data": {
      "text/plain": [
       "<matplotlib.axes._subplots.AxesSubplot at 0x249d3f65e88>"
      ]
     },
     "execution_count": 9,
     "metadata": {},
     "output_type": "execute_result"
    },
    {
     "data": {
      "image/png": "[encoded data removed]",
      "text/plain": [
       "<Figure size 432x288 with 1 Axes>"
      ]
     },
     "metadata": {
      "needs_background": "light"
     },
     "output_type": "display_data"
    }
   ],
   "source": [
    "#Show null Value with the help of distplot\n",
    "sns.distplot(b,hist=True)"
   ]
  },
  {
   "cell_type": "code",
   "execution_count": 76,
   "metadata": {},
   "outputs": [],
   "source": [
    "wreport=pd.read_csv('E:/Ft. Worth Weather.csv')"
   ]
  },
  {
   "cell_type": "code",
   "execution_count": 77,
   "metadata": {},
   "outputs": [
    {
     "data": {
      "text/html": [
       "<div>\n",
       "<style scoped>\n",
       "    .dataframe tbody tr th:only-of-type {\n",
       "        vertical-align: middle;\n",
       "    }\n",
       "\n",
       "    .dataframe tbody tr th {\n",
       "        vertical-align: top;\n",
       "    }\n",
       "\n",
       "    .dataframe thead th {\n",
       "        text-align: right;\n",
       "    }\n",
       "</style>\n",
       "<table border=\"1\" class=\"dataframe\">\n",
       "  <thead>\n",
       "    <tr style=\"text-align: right;\">\n",
       "      <th></th>\n",
       "      <th>dt</th>\n",
       "      <th>dt_iso</th>\n",
       "      <th>timezone</th>\n",
       "      <th>city_name</th>\n",
       "      <th>lat</th>\n",
       "      <th>lon</th>\n",
       "      <th>temp</th>\n",
       "      <th>feels_like</th>\n",
       "      <th>temp_min</th>\n",
       "      <th>temp_max</th>\n",
       "      <th>...</th>\n",
       "      <th>wind_deg</th>\n",
       "      <th>rain_1h</th>\n",
       "      <th>rain_3h</th>\n",
       "      <th>snow_1h</th>\n",
       "      <th>snow_3h</th>\n",
       "      <th>clouds_all</th>\n",
       "      <th>weather_id</th>\n",
       "      <th>weather_main</th>\n",
       "      <th>weather_description</th>\n",
       "      <th>weather_icon</th>\n",
       "    </tr>\n",
       "  </thead>\n",
       "  <tbody>\n",
       "    <tr>\n",
       "      <td>0</td>\n",
       "      <td>1420070400</td>\n",
       "      <td>2015-01-01 00:00:00 +0000 UTC</td>\n",
       "      <td>-21600</td>\n",
       "      <td>Fort Worth</td>\n",
       "      <td>32.755488</td>\n",
       "      <td>-97.330766</td>\n",
       "      <td>274.26</td>\n",
       "      <td>268.46</td>\n",
       "      <td>273.150</td>\n",
       "      <td>275.35</td>\n",
       "      <td>...</td>\n",
       "      <td>360</td>\n",
       "      <td>NaN</td>\n",
       "      <td>NaN</td>\n",
       "      <td>NaN</td>\n",
       "      <td>NaN</td>\n",
       "      <td>90</td>\n",
       "      <td>804</td>\n",
       "      <td>Clouds</td>\n",
       "      <td>overcast clouds</td>\n",
       "      <td>04n</td>\n",
       "    </tr>\n",
       "    <tr>\n",
       "      <td>1</td>\n",
       "      <td>1420074000</td>\n",
       "      <td>2015-01-01 01:00:00 +0000 UTC</td>\n",
       "      <td>-21600</td>\n",
       "      <td>Fort Worth</td>\n",
       "      <td>32.755488</td>\n",
       "      <td>-97.330766</td>\n",
       "      <td>274.26</td>\n",
       "      <td>269.16</td>\n",
       "      <td>273.150</td>\n",
       "      <td>275.35</td>\n",
       "      <td>...</td>\n",
       "      <td>10</td>\n",
       "      <td>NaN</td>\n",
       "      <td>NaN</td>\n",
       "      <td>NaN</td>\n",
       "      <td>NaN</td>\n",
       "      <td>90</td>\n",
       "      <td>804</td>\n",
       "      <td>Clouds</td>\n",
       "      <td>overcast clouds</td>\n",
       "      <td>04n</td>\n",
       "    </tr>\n",
       "    <tr>\n",
       "      <td>2</td>\n",
       "      <td>1420077600</td>\n",
       "      <td>2015-01-01 02:00:00 +0000 UTC</td>\n",
       "      <td>-21600</td>\n",
       "      <td>Fort Worth</td>\n",
       "      <td>32.755488</td>\n",
       "      <td>-97.330766</td>\n",
       "      <td>274.48</td>\n",
       "      <td>269.71</td>\n",
       "      <td>273.750</td>\n",
       "      <td>275.35</td>\n",
       "      <td>...</td>\n",
       "      <td>350</td>\n",
       "      <td>NaN</td>\n",
       "      <td>NaN</td>\n",
       "      <td>NaN</td>\n",
       "      <td>NaN</td>\n",
       "      <td>90</td>\n",
       "      <td>804</td>\n",
       "      <td>Clouds</td>\n",
       "      <td>overcast clouds</td>\n",
       "      <td>04n</td>\n",
       "    </tr>\n",
       "    <tr>\n",
       "      <td>3</td>\n",
       "      <td>1420081200</td>\n",
       "      <td>2015-01-01 03:00:00 +0000 UTC</td>\n",
       "      <td>-21600</td>\n",
       "      <td>Fort Worth</td>\n",
       "      <td>32.755488</td>\n",
       "      <td>-97.330766</td>\n",
       "      <td>274.49</td>\n",
       "      <td>270.42</td>\n",
       "      <td>273.750</td>\n",
       "      <td>275.35</td>\n",
       "      <td>...</td>\n",
       "      <td>350</td>\n",
       "      <td>NaN</td>\n",
       "      <td>NaN</td>\n",
       "      <td>NaN</td>\n",
       "      <td>NaN</td>\n",
       "      <td>90</td>\n",
       "      <td>804</td>\n",
       "      <td>Clouds</td>\n",
       "      <td>overcast clouds</td>\n",
       "      <td>04n</td>\n",
       "    </tr>\n",
       "    <tr>\n",
       "      <td>4</td>\n",
       "      <td>1420084800</td>\n",
       "      <td>2015-01-01 04:00:00 +0000 UTC</td>\n",
       "      <td>-21600</td>\n",
       "      <td>Fort Worth</td>\n",
       "      <td>32.755488</td>\n",
       "      <td>-97.330766</td>\n",
       "      <td>274.52</td>\n",
       "      <td>269.75</td>\n",
       "      <td>273.750</td>\n",
       "      <td>275.35</td>\n",
       "      <td>...</td>\n",
       "      <td>350</td>\n",
       "      <td>NaN</td>\n",
       "      <td>NaN</td>\n",
       "      <td>NaN</td>\n",
       "      <td>NaN</td>\n",
       "      <td>90</td>\n",
       "      <td>804</td>\n",
       "      <td>Clouds</td>\n",
       "      <td>overcast clouds</td>\n",
       "      <td>04n</td>\n",
       "    </tr>\n",
       "    <tr>\n",
       "      <td>...</td>\n",
       "      <td>...</td>\n",
       "      <td>...</td>\n",
       "      <td>...</td>\n",
       "      <td>...</td>\n",
       "      <td>...</td>\n",
       "      <td>...</td>\n",
       "      <td>...</td>\n",
       "      <td>...</td>\n",
       "      <td>...</td>\n",
       "      <td>...</td>\n",
       "      <td>...</td>\n",
       "      <td>...</td>\n",
       "      <td>...</td>\n",
       "      <td>...</td>\n",
       "      <td>...</td>\n",
       "      <td>...</td>\n",
       "      <td>...</td>\n",
       "      <td>...</td>\n",
       "      <td>...</td>\n",
       "      <td>...</td>\n",
       "      <td>...</td>\n",
       "    </tr>\n",
       "    <tr>\n",
       "      <td>51786</td>\n",
       "      <td>1600110000</td>\n",
       "      <td>2020-09-14 19:00:00 +0000 UTC</td>\n",
       "      <td>-18000</td>\n",
       "      <td>Fort Worth</td>\n",
       "      <td>32.755488</td>\n",
       "      <td>-97.330766</td>\n",
       "      <td>302.16</td>\n",
       "      <td>303.68</td>\n",
       "      <td>300.150</td>\n",
       "      <td>303.71</td>\n",
       "      <td>...</td>\n",
       "      <td>350</td>\n",
       "      <td>NaN</td>\n",
       "      <td>NaN</td>\n",
       "      <td>NaN</td>\n",
       "      <td>NaN</td>\n",
       "      <td>75</td>\n",
       "      <td>803</td>\n",
       "      <td>Clouds</td>\n",
       "      <td>broken clouds</td>\n",
       "      <td>04d</td>\n",
       "    </tr>\n",
       "    <tr>\n",
       "      <td>51787</td>\n",
       "      <td>1600113600</td>\n",
       "      <td>2020-09-14 20:00:00 +0000 UTC</td>\n",
       "      <td>-18000</td>\n",
       "      <td>Fort Worth</td>\n",
       "      <td>32.755488</td>\n",
       "      <td>-97.330766</td>\n",
       "      <td>302.82</td>\n",
       "      <td>302.58</td>\n",
       "      <td>301.480</td>\n",
       "      <td>304.26</td>\n",
       "      <td>...</td>\n",
       "      <td>20</td>\n",
       "      <td>NaN</td>\n",
       "      <td>NaN</td>\n",
       "      <td>NaN</td>\n",
       "      <td>NaN</td>\n",
       "      <td>20</td>\n",
       "      <td>801</td>\n",
       "      <td>Clouds</td>\n",
       "      <td>few clouds</td>\n",
       "      <td>02d</td>\n",
       "    </tr>\n",
       "    <tr>\n",
       "      <td>51788</td>\n",
       "      <td>1600117200</td>\n",
       "      <td>2020-09-14 21:00:00 +0000 UTC</td>\n",
       "      <td>-18000</td>\n",
       "      <td>Fort Worth</td>\n",
       "      <td>32.755488</td>\n",
       "      <td>-97.330766</td>\n",
       "      <td>303.32</td>\n",
       "      <td>302.51</td>\n",
       "      <td>301.988</td>\n",
       "      <td>304.26</td>\n",
       "      <td>...</td>\n",
       "      <td>10</td>\n",
       "      <td>NaN</td>\n",
       "      <td>NaN</td>\n",
       "      <td>NaN</td>\n",
       "      <td>NaN</td>\n",
       "      <td>20</td>\n",
       "      <td>801</td>\n",
       "      <td>Clouds</td>\n",
       "      <td>few clouds</td>\n",
       "      <td>02d</td>\n",
       "    </tr>\n",
       "    <tr>\n",
       "      <td>51789</td>\n",
       "      <td>1600120800</td>\n",
       "      <td>2020-09-14 22:00:00 +0000 UTC</td>\n",
       "      <td>-18000</td>\n",
       "      <td>Fort Worth</td>\n",
       "      <td>32.755488</td>\n",
       "      <td>-97.330766</td>\n",
       "      <td>303.22</td>\n",
       "      <td>303.61</td>\n",
       "      <td>301.988</td>\n",
       "      <td>304.26</td>\n",
       "      <td>...</td>\n",
       "      <td>27</td>\n",
       "      <td>NaN</td>\n",
       "      <td>NaN</td>\n",
       "      <td>NaN</td>\n",
       "      <td>NaN</td>\n",
       "      <td>1</td>\n",
       "      <td>800</td>\n",
       "      <td>Clear</td>\n",
       "      <td>sky is clear</td>\n",
       "      <td>01d</td>\n",
       "    </tr>\n",
       "    <tr>\n",
       "      <td>51790</td>\n",
       "      <td>1600124400</td>\n",
       "      <td>2020-09-14 23:00:00 +0000 UTC</td>\n",
       "      <td>-18000</td>\n",
       "      <td>Fort Worth</td>\n",
       "      <td>32.755488</td>\n",
       "      <td>-97.330766</td>\n",
       "      <td>302.73</td>\n",
       "      <td>302.46</td>\n",
       "      <td>301.388</td>\n",
       "      <td>304.15</td>\n",
       "      <td>...</td>\n",
       "      <td>10</td>\n",
       "      <td>NaN</td>\n",
       "      <td>NaN</td>\n",
       "      <td>NaN</td>\n",
       "      <td>NaN</td>\n",
       "      <td>40</td>\n",
       "      <td>802</td>\n",
       "      <td>Clouds</td>\n",
       "      <td>scattered clouds</td>\n",
       "      <td>03d</td>\n",
       "    </tr>\n",
       "  </tbody>\n",
       "</table>\n",
       "<p>51791 rows × 25 columns</p>\n",
       "</div>"
      ],
      "text/plain": [
       "               dt                         dt_iso  timezone   city_name  \\\n",
       "0      1420070400  2015-01-01 00:00:00 +0000 UTC    -21600  Fort Worth   \n",
       "1      1420074000  2015-01-01 01:00:00 +0000 UTC    -21600  Fort Worth   \n",
       "2      1420077600  2015-01-01 02:00:00 +0000 UTC    -21600  Fort Worth   \n",
       "3      1420081200  2015-01-01 03:00:00 +0000 UTC    -21600  Fort Worth   \n",
       "4      1420084800  2015-01-01 04:00:00 +0000 UTC    -21600  Fort Worth   \n",
       "...           ...                            ...       ...         ...   \n",
       "51786  1600110000  2020-09-14 19:00:00 +0000 UTC    -18000  Fort Worth   \n",
       "51787  1600113600  2020-09-14 20:00:00 +0000 UTC    -18000  Fort Worth   \n",
       "51788  1600117200  2020-09-14 21:00:00 +0000 UTC    -18000  Fort Worth   \n",
       "51789  1600120800  2020-09-14 22:00:00 +0000 UTC    -18000  Fort Worth   \n",
       "51790  1600124400  2020-09-14 23:00:00 +0000 UTC    -18000  Fort Worth   \n",
       "\n",
       "             lat        lon    temp  feels_like  temp_min  temp_max  ...  \\\n",
       "0      32.755488 -97.330766  274.26      268.46   273.150    275.35  ...   \n",
       "1      32.755488 -97.330766  274.26      269.16   273.150    275.35  ...   \n",
       "2      32.755488 -97.330766  274.48      269.71   273.750    275.35  ...   \n",
       "3      32.755488 -97.330766  274.49      270.42   273.750    275.35  ...   \n",
       "4      32.755488 -97.330766  274.52      269.75   273.750    275.35  ...   \n",
       "...          ...        ...     ...         ...       ...       ...  ...   \n",
       "51786  32.755488 -97.330766  302.16      303.68   300.150    303.71  ...   \n",
       "51787  32.755488 -97.330766  302.82      302.58   301.480    304.26  ...   \n",
       "51788  32.755488 -97.330766  303.32      302.51   301.988    304.26  ...   \n",
       "51789  32.755488 -97.330766  303.22      303.61   301.988    304.26  ...   \n",
       "51790  32.755488 -97.330766  302.73      302.46   301.388    304.15  ...   \n",
       "\n",
       "       wind_deg  rain_1h  rain_3h  snow_1h  snow_3h  clouds_all  weather_id  \\\n",
       "0           360      NaN      NaN      NaN      NaN          90         804   \n",
       "1            10      NaN      NaN      NaN      NaN          90         804   \n",
       "2           350      NaN      NaN      NaN      NaN          90         804   \n",
       "3           350      NaN      NaN      NaN      NaN          90         804   \n",
       "4           350      NaN      NaN      NaN      NaN          90         804   \n",
       "...         ...      ...      ...      ...      ...         ...         ...   \n",
       "51786       350      NaN      NaN      NaN      NaN          75         803   \n",
       "51787        20      NaN      NaN      NaN      NaN          20         801   \n",
       "51788        10      NaN      NaN      NaN      NaN          20         801   \n",
       "51789        27      NaN      NaN      NaN      NaN           1         800   \n",
       "51790        10      NaN      NaN      NaN      NaN          40         802   \n",
       "\n",
       "       weather_main  weather_description  weather_icon  \n",
       "0            Clouds      overcast clouds           04n  \n",
       "1            Clouds      overcast clouds           04n  \n",
       "2            Clouds      overcast clouds           04n  \n",
       "3            Clouds      overcast clouds           04n  \n",
       "4            Clouds      overcast clouds           04n  \n",
       "...             ...                  ...           ...  \n",
       "51786        Clouds        broken clouds           04d  \n",
       "51787        Clouds           few clouds           02d  \n",
       "51788        Clouds           few clouds           02d  \n",
       "51789         Clear         sky is clear           01d  \n",
       "51790        Clouds     scattered clouds           03d  \n",
       "\n",
       "[51791 rows x 25 columns]"
      ]
     },
     "execution_count": 77,
     "metadata": {},
     "output_type": "execute_result"
    }
   ],
   "source": [
    "wreport"
   ]
  },
  {
   "cell_type": "code",
   "execution_count": 64,
   "metadata": {},
   "outputs": [],
   "source": [
    "#Charge_report \n",
    "creport = pd.read_excel('E:/Charge Report.xlsx')"
   ]
  },
  {
   "cell_type": "code",
   "execution_count": 65,
   "metadata": {},
   "outputs": [
    {
     "data": {
      "text/html": [
       "<div>\n",
       "<style scoped>\n",
       "    .dataframe tbody tr th:only-of-type {\n",
       "        vertical-align: middle;\n",
       "    }\n",
       "\n",
       "    .dataframe tbody tr th {\n",
       "        vertical-align: top;\n",
       "    }\n",
       "\n",
       "    .dataframe thead th {\n",
       "        text-align: right;\n",
       "    }\n",
       "</style>\n",
       "<table border=\"1\" class=\"dataframe\">\n",
       "  <thead>\n",
       "    <tr style=\"text-align: right;\">\n",
       "      <th></th>\n",
       "      <th>Bt Nbr</th>\n",
       "      <th>Per Nbr</th>\n",
       "      <th>Md Rc</th>\n",
       "      <th>Billed Amt</th>\n",
       "      <th>Aprv Amt</th>\n",
       "      <th>Alwd Amt</th>\n",
       "      <th>Tran Dt</th>\n",
       "      <th>Tran Cd</th>\n",
       "      <th>Pay Amt</th>\n",
       "      <th>Tran Status</th>\n",
       "      <th>...</th>\n",
       "      <th>Secondary</th>\n",
       "      <th>Tertiary</th>\n",
       "      <th>Pat Amt</th>\n",
       "      <th>Unit Price</th>\n",
       "      <th>Count</th>\n",
       "      <th>Diag 1</th>\n",
       "      <th>Diag 2</th>\n",
       "      <th>Department</th>\n",
       "      <th>Component</th>\n",
       "      <th>Payer Name</th>\n",
       "    </tr>\n",
       "  </thead>\n",
       "  <tbody>\n",
       "    <tr>\n",
       "      <td>0</td>\n",
       "      <td>251</td>\n",
       "      <td>26</td>\n",
       "      <td>493273697</td>\n",
       "      <td>15.0</td>\n",
       "      <td>115.34</td>\n",
       "      <td>0.00</td>\n",
       "      <td>2020-04-01</td>\n",
       "      <td>Pymt UHC</td>\n",
       "      <td>0.00</td>\n",
       "      <td>Appeal</td>\n",
       "      <td>...</td>\n",
       "      <td>0.00</td>\n",
       "      <td>0.0</td>\n",
       "      <td>0.00</td>\n",
       "      <td>15.0</td>\n",
       "      <td>1</td>\n",
       "      <td>M62.00</td>\n",
       "      <td>N32.89</td>\n",
       "      <td>Medicine</td>\n",
       "      <td>Professional</td>\n",
       "      <td>United Health Care</td>\n",
       "    </tr>\n",
       "    <tr>\n",
       "      <td>1</td>\n",
       "      <td>251</td>\n",
       "      <td>26</td>\n",
       "      <td>493273697</td>\n",
       "      <td>13.0</td>\n",
       "      <td>115.34</td>\n",
       "      <td>2.16</td>\n",
       "      <td>2020-04-01</td>\n",
       "      <td>Pymt UHC</td>\n",
       "      <td>-2.16</td>\n",
       "      <td>Settled moved to self</td>\n",
       "      <td>...</td>\n",
       "      <td>0.00</td>\n",
       "      <td>0.0</td>\n",
       "      <td>0.00</td>\n",
       "      <td>13.0</td>\n",
       "      <td>1</td>\n",
       "      <td>R10.2</td>\n",
       "      <td>NaN</td>\n",
       "      <td>Laboratory</td>\n",
       "      <td>Professional</td>\n",
       "      <td>United Health Care</td>\n",
       "    </tr>\n",
       "    <tr>\n",
       "      <td>2</td>\n",
       "      <td>251</td>\n",
       "      <td>26</td>\n",
       "      <td>493273697</td>\n",
       "      <td>156.0</td>\n",
       "      <td>115.34</td>\n",
       "      <td>113.18</td>\n",
       "      <td>2020-04-01</td>\n",
       "      <td>Pymt UHC</td>\n",
       "      <td>-83.18</td>\n",
       "      <td>Settled moved to self</td>\n",
       "      <td>...</td>\n",
       "      <td>0.00</td>\n",
       "      <td>0.0</td>\n",
       "      <td>-20.00</td>\n",
       "      <td>156.0</td>\n",
       "      <td>1</td>\n",
       "      <td>R10.2</td>\n",
       "      <td>R35.0</td>\n",
       "      <td>E/M Service</td>\n",
       "      <td>Global</td>\n",
       "      <td>United Health Care</td>\n",
       "    </tr>\n",
       "    <tr>\n",
       "      <td>3</td>\n",
       "      <td>129</td>\n",
       "      <td>33</td>\n",
       "      <td>4131679</td>\n",
       "      <td>253.0</td>\n",
       "      <td>0.00</td>\n",
       "      <td>0.00</td>\n",
       "      <td>2020-03-20</td>\n",
       "      <td>Pymt Commercial</td>\n",
       "      <td>0.00</td>\n",
       "      <td>Settled moved to self</td>\n",
       "      <td>...</td>\n",
       "      <td>0.00</td>\n",
       "      <td>0.0</td>\n",
       "      <td>0.00</td>\n",
       "      <td>253.0</td>\n",
       "      <td>1</td>\n",
       "      <td>Z01.419</td>\n",
       "      <td>Z00.00</td>\n",
       "      <td>E/M Preventive Medicine</td>\n",
       "      <td>Professional</td>\n",
       "      <td>Cigna Local Plus Open Access PPO</td>\n",
       "    </tr>\n",
       "    <tr>\n",
       "      <td>4</td>\n",
       "      <td>22</td>\n",
       "      <td>141</td>\n",
       "      <td>4199327</td>\n",
       "      <td>15.0</td>\n",
       "      <td>2.80</td>\n",
       "      <td>2.80</td>\n",
       "      <td>2020-03-17</td>\n",
       "      <td>Pymt Aetna</td>\n",
       "      <td>0.00</td>\n",
       "      <td>Appeal</td>\n",
       "      <td>...</td>\n",
       "      <td>0.00</td>\n",
       "      <td>0.0</td>\n",
       "      <td>0.00</td>\n",
       "      <td>15.0</td>\n",
       "      <td>1</td>\n",
       "      <td>J40</td>\n",
       "      <td>NaN</td>\n",
       "      <td>J Codes</td>\n",
       "      <td>Professional</td>\n",
       "      <td>Aetna  60054</td>\n",
       "    </tr>\n",
       "    <tr>\n",
       "      <td>...</td>\n",
       "      <td>...</td>\n",
       "      <td>...</td>\n",
       "      <td>...</td>\n",
       "      <td>...</td>\n",
       "      <td>...</td>\n",
       "      <td>...</td>\n",
       "      <td>...</td>\n",
       "      <td>...</td>\n",
       "      <td>...</td>\n",
       "      <td>...</td>\n",
       "      <td>...</td>\n",
       "      <td>...</td>\n",
       "      <td>...</td>\n",
       "      <td>...</td>\n",
       "      <td>...</td>\n",
       "      <td>...</td>\n",
       "      <td>...</td>\n",
       "      <td>...</td>\n",
       "      <td>...</td>\n",
       "      <td>...</td>\n",
       "      <td>...</td>\n",
       "    </tr>\n",
       "    <tr>\n",
       "      <td>41282</td>\n",
       "      <td>324</td>\n",
       "      <td>1424144</td>\n",
       "      <td>734299</td>\n",
       "      <td>130.0</td>\n",
       "      <td>259.19</td>\n",
       "      <td>73.19</td>\n",
       "      <td>2020-04-14</td>\n",
       "      <td>Pymt Commercial</td>\n",
       "      <td>-71.73</td>\n",
       "      <td>Settled moved to secondary</td>\n",
       "      <td>...</td>\n",
       "      <td>1.46</td>\n",
       "      <td>0.0</td>\n",
       "      <td>-1.46</td>\n",
       "      <td>130.0</td>\n",
       "      <td>1</td>\n",
       "      <td>S32.10XA</td>\n",
       "      <td>M62.838</td>\n",
       "      <td>E/M Service Facility</td>\n",
       "      <td>Global</td>\n",
       "      <td>Humana Gold Plus HMO</td>\n",
       "    </tr>\n",
       "    <tr>\n",
       "      <td>41283</td>\n",
       "      <td>324</td>\n",
       "      <td>1424144</td>\n",
       "      <td>734299</td>\n",
       "      <td>367.0</td>\n",
       "      <td>259.19</td>\n",
       "      <td>186.00</td>\n",
       "      <td>2020-04-14</td>\n",
       "      <td>Pymt Commercial</td>\n",
       "      <td>-182.28</td>\n",
       "      <td>Settled moved to secondary</td>\n",
       "      <td>...</td>\n",
       "      <td>3.72</td>\n",
       "      <td>0.0</td>\n",
       "      <td>-3.72</td>\n",
       "      <td>367.0</td>\n",
       "      <td>1</td>\n",
       "      <td>S32.10XA</td>\n",
       "      <td>S32.511A</td>\n",
       "      <td>E/M Service</td>\n",
       "      <td>Professional</td>\n",
       "      <td>Humana Gold Plus HMO</td>\n",
       "    </tr>\n",
       "    <tr>\n",
       "      <td>41284</td>\n",
       "      <td>212</td>\n",
       "      <td>1424197</td>\n",
       "      <td>734112</td>\n",
       "      <td>233.0</td>\n",
       "      <td>144.39</td>\n",
       "      <td>144.39</td>\n",
       "      <td>2020-04-29</td>\n",
       "      <td>Pymt BCBS</td>\n",
       "      <td>-144.39</td>\n",
       "      <td>Settled moved to self</td>\n",
       "      <td>...</td>\n",
       "      <td>0.00</td>\n",
       "      <td>0.0</td>\n",
       "      <td>0.00</td>\n",
       "      <td>233.0</td>\n",
       "      <td>1</td>\n",
       "      <td>K59.00</td>\n",
       "      <td>Z09</td>\n",
       "      <td>E/M Service</td>\n",
       "      <td>Global</td>\n",
       "      <td>Blue Cross Blue Shield</td>\n",
       "    </tr>\n",
       "    <tr>\n",
       "      <td>41285</td>\n",
       "      <td>179</td>\n",
       "      <td>1424942</td>\n",
       "      <td>734767</td>\n",
       "      <td>358.0</td>\n",
       "      <td>164.58</td>\n",
       "      <td>164.58</td>\n",
       "      <td>2020-04-24</td>\n",
       "      <td>Pymt Medicare</td>\n",
       "      <td>-131.13</td>\n",
       "      <td>Forwarded to Secondary</td>\n",
       "      <td>...</td>\n",
       "      <td>32.92</td>\n",
       "      <td>0.0</td>\n",
       "      <td>0.00</td>\n",
       "      <td>358.0</td>\n",
       "      <td>1</td>\n",
       "      <td>I70.235</td>\n",
       "      <td>L03.115</td>\n",
       "      <td>E/M Service</td>\n",
       "      <td>Professional</td>\n",
       "      <td>Medicare</td>\n",
       "    </tr>\n",
       "    <tr>\n",
       "      <td>41286</td>\n",
       "      <td>179</td>\n",
       "      <td>1424942</td>\n",
       "      <td>734767</td>\n",
       "      <td>582.0</td>\n",
       "      <td>196.56</td>\n",
       "      <td>196.56</td>\n",
       "      <td>2020-04-24</td>\n",
       "      <td>Pymt Medicare</td>\n",
       "      <td>-156.61</td>\n",
       "      <td>Forwarded to Secondary</td>\n",
       "      <td>...</td>\n",
       "      <td>39.31</td>\n",
       "      <td>0.0</td>\n",
       "      <td>0.00</td>\n",
       "      <td>582.0</td>\n",
       "      <td>1</td>\n",
       "      <td>I87.2</td>\n",
       "      <td>NaN</td>\n",
       "      <td>Medicine</td>\n",
       "      <td>Professional</td>\n",
       "      <td>Medicare</td>\n",
       "    </tr>\n",
       "  </tbody>\n",
       "</table>\n",
       "<p>41287 rows × 28 columns</p>\n",
       "</div>"
      ],
      "text/plain": [
       "       Bt Nbr  Per Nbr      Md Rc  Billed Amt  Aprv Amt  Alwd Amt    Tran Dt  \\\n",
       "0         251       26  493273697        15.0    115.34      0.00 2020-04-01   \n",
       "1         251       26  493273697        13.0    115.34      2.16 2020-04-01   \n",
       "2         251       26  493273697       156.0    115.34    113.18 2020-04-01   \n",
       "3         129       33    4131679       253.0      0.00      0.00 2020-03-20   \n",
       "4          22      141    4199327        15.0      2.80      2.80 2020-03-17   \n",
       "...       ...      ...        ...         ...       ...       ...        ...   \n",
       "41282     324  1424144     734299       130.0    259.19     73.19 2020-04-14   \n",
       "41283     324  1424144     734299       367.0    259.19    186.00 2020-04-14   \n",
       "41284     212  1424197     734112       233.0    144.39    144.39 2020-04-29   \n",
       "41285     179  1424942     734767       358.0    164.58    164.58 2020-04-24   \n",
       "41286     179  1424942     734767       582.0    196.56    196.56 2020-04-24   \n",
       "\n",
       "               Tran Cd  Pay Amt                 Tran Status  ... Secondary  \\\n",
       "0             Pymt UHC     0.00                      Appeal  ...      0.00   \n",
       "1             Pymt UHC    -2.16       Settled moved to self  ...      0.00   \n",
       "2             Pymt UHC   -83.18       Settled moved to self  ...      0.00   \n",
       "3      Pymt Commercial     0.00       Settled moved to self  ...      0.00   \n",
       "4           Pymt Aetna     0.00                      Appeal  ...      0.00   \n",
       "...                ...      ...                         ...  ...       ...   \n",
       "41282  Pymt Commercial   -71.73  Settled moved to secondary  ...      1.46   \n",
       "41283  Pymt Commercial  -182.28  Settled moved to secondary  ...      3.72   \n",
       "41284        Pymt BCBS  -144.39       Settled moved to self  ...      0.00   \n",
       "41285    Pymt Medicare  -131.13      Forwarded to Secondary  ...     32.92   \n",
       "41286    Pymt Medicare  -156.61      Forwarded to Secondary  ...     39.31   \n",
       "\n",
       "      Tertiary Pat Amt  Unit Price Count    Diag 1    Diag 2  \\\n",
       "0          0.0    0.00        15.0     1    M62.00    N32.89   \n",
       "1          0.0    0.00        13.0     1     R10.2       NaN   \n",
       "2          0.0  -20.00       156.0     1     R10.2     R35.0   \n",
       "3          0.0    0.00       253.0     1   Z01.419    Z00.00   \n",
       "4          0.0    0.00        15.0     1       J40       NaN   \n",
       "...        ...     ...         ...   ...       ...       ...   \n",
       "41282      0.0   -1.46       130.0     1  S32.10XA   M62.838   \n",
       "41283      0.0   -3.72       367.0     1  S32.10XA  S32.511A   \n",
       "41284      0.0    0.00       233.0     1    K59.00       Z09   \n",
       "41285      0.0    0.00       358.0     1   I70.235   L03.115   \n",
       "41286      0.0    0.00       582.0     1     I87.2       NaN   \n",
       "\n",
       "                    Department     Component                        Payer Name  \n",
       "0                     Medicine  Professional                United Health Care  \n",
       "1                   Laboratory  Professional                United Health Care  \n",
       "2                  E/M Service        Global                United Health Care  \n",
       "3      E/M Preventive Medicine  Professional  Cigna Local Plus Open Access PPO  \n",
       "4                      J Codes  Professional                      Aetna  60054  \n",
       "...                        ...           ...                               ...  \n",
       "41282     E/M Service Facility        Global              Humana Gold Plus HMO  \n",
       "41283              E/M Service  Professional              Humana Gold Plus HMO  \n",
       "41284              E/M Service        Global            Blue Cross Blue Shield  \n",
       "41285              E/M Service  Professional                          Medicare  \n",
       "41286                 Medicine  Professional                          Medicare  \n",
       "\n",
       "[41287 rows x 28 columns]"
      ]
     },
     "execution_count": 65,
     "metadata": {},
     "output_type": "execute_result"
    }
   ],
   "source": [
    "creport"
   ]
  },
  {
   "cell_type": "code",
   "execution_count": 66,
   "metadata": {},
   "outputs": [
    {
     "data": {
      "text/plain": [
       "Index(['Bt Nbr', 'Per Nbr', 'Md Rc', 'Billed Amt', 'Aprv Amt', 'Alwd Amt',\n",
       "       'Tran Dt', 'Tran Cd', 'Pay Amt', 'Tran Status', 'Reason Cds/Remarks',\n",
       "       'Reason Cds/Remarks Desc', 'Reason Code SubGrp 1', 'Ded Amt',\n",
       "       'Dt of Svc', 'CPT4', 'CPT4 Desc', 'Primary', 'Secondary', 'Tertiary',\n",
       "       'Pat Amt', 'Unit Price', 'Count', 'Diag 1', 'Diag 2', 'Department',\n",
       "       'Component', 'Payer Name'],\n",
       "      dtype='object')"
      ]
     },
     "execution_count": 66,
     "metadata": {},
     "output_type": "execute_result"
    }
   ],
   "source": [
    "creport.columns"
   ]
  },
  {
   "cell_type": "code",
   "execution_count": 11,
   "metadata": {},
   "outputs": [
    {
     "data": {
      "image/png": "[encoded data removed]",
      "text/plain": [
       "<Figure size 288x288 with 1 Axes>"
      ]
     },
     "metadata": {
      "needs_background": "light"
     },
     "output_type": "display_data"
    }
   ],
   "source": [
    "plt.matshow(creport.corr())\n",
    "plt.show()"
   ]
  },
  {
   "cell_type": "code",
   "execution_count": 12,
   "metadata": {},
   "outputs": [
    {
     "data": {
      "image/png": "[encoded data removed]",
      "text/plain": [
       "<Figure size 1368x1080 with 2 Axes>"
      ]
     },
     "metadata": {
      "needs_background": "light"
     },
     "output_type": "display_data"
    }
   ],
   "source": [
    "f = plt.figure(figsize=(19, 15))\n",
    "plt.matshow(creport.corr(), fignum=f.number)\n",
    "plt.xticks(range(creport.select_dtypes(['number']).shape[1]), creport.select_dtypes(['number']).columns, fontsize=14, rotation=45)\n",
    "plt.yticks(range(creport.select_dtypes(['number']).shape[1]), creport.select_dtypes(['number']).columns, fontsize=14)\n",
    "cb = plt.colorbar()\n",
    "cb.ax.tick_params(labelsize=14)\n",
    "plt.title('Correlation Matrix', fontsize=16);"
   ]
  },
  {
   "cell_type": "code",
   "execution_count": 165,
   "metadata": {},
   "outputs": [
    {
     "data": {
      "text/html": [
       "<div>\n",
       "<style scoped>\n",
       "    .dataframe tbody tr th:only-of-type {\n",
       "        vertical-align: middle;\n",
       "    }\n",
       "\n",
       "    .dataframe tbody tr th {\n",
       "        vertical-align: top;\n",
       "    }\n",
       "\n",
       "    .dataframe thead th {\n",
       "        text-align: right;\n",
       "    }\n",
       "</style>\n",
       "<table border=\"1\" class=\"dataframe\">\n",
       "  <thead>\n",
       "    <tr style=\"text-align: right;\">\n",
       "      <th></th>\n",
       "      <th>Bt Nbr</th>\n",
       "      <th>Per Nbr</th>\n",
       "      <th>Billed Amt</th>\n",
       "      <th>Aprv Amt</th>\n",
       "      <th>Alwd Amt</th>\n",
       "      <th>Pay Amt</th>\n",
       "      <th>Ded Amt</th>\n",
       "      <th>Primary</th>\n",
       "      <th>Secondary</th>\n",
       "      <th>Tertiary</th>\n",
       "      <th>Pat Amt</th>\n",
       "      <th>Unit Price</th>\n",
       "      <th>Count</th>\n",
       "    </tr>\n",
       "  </thead>\n",
       "  <tbody>\n",
       "    <tr>\n",
       "      <td>count</td>\n",
       "      <td>17418.000000</td>\n",
       "      <td>1.741800e+04</td>\n",
       "      <td>17418.000000</td>\n",
       "      <td>17418.000000</td>\n",
       "      <td>17418.000000</td>\n",
       "      <td>17418.000000</td>\n",
       "      <td>17418.000000</td>\n",
       "      <td>17418.000000</td>\n",
       "      <td>17418.000000</td>\n",
       "      <td>17418.000000</td>\n",
       "      <td>17418.000000</td>\n",
       "      <td>17418.000000</td>\n",
       "      <td>17418.000000</td>\n",
       "    </tr>\n",
       "    <tr>\n",
       "      <td>mean</td>\n",
       "      <td>161.196349</td>\n",
       "      <td>7.782413e+05</td>\n",
       "      <td>247.084138</td>\n",
       "      <td>201.533147</td>\n",
       "      <td>101.650464</td>\n",
       "      <td>-66.352441</td>\n",
       "      <td>11.220446</td>\n",
       "      <td>11.100074</td>\n",
       "      <td>2.075214</td>\n",
       "      <td>0.012987</td>\n",
       "      <td>4.295480</td>\n",
       "      <td>241.053221</td>\n",
       "      <td>1.136411</td>\n",
       "    </tr>\n",
       "    <tr>\n",
       "      <td>std</td>\n",
       "      <td>126.128441</td>\n",
       "      <td>4.841025e+05</td>\n",
       "      <td>1026.066028</td>\n",
       "      <td>1105.984842</td>\n",
       "      <td>379.251980</td>\n",
       "      <td>344.757647</td>\n",
       "      <td>50.346897</td>\n",
       "      <td>279.324345</td>\n",
       "      <td>16.386612</td>\n",
       "      <td>0.768101</td>\n",
       "      <td>73.249013</td>\n",
       "      <td>1001.231053</td>\n",
       "      <td>2.348026</td>\n",
       "    </tr>\n",
       "    <tr>\n",
       "      <td>min</td>\n",
       "      <td>1.000000</td>\n",
       "      <td>2.600000e+01</td>\n",
       "      <td>0.010000</td>\n",
       "      <td>-724.710000</td>\n",
       "      <td>-568.380000</td>\n",
       "      <td>-14400.480000</td>\n",
       "      <td>-1039.960000</td>\n",
       "      <td>-330.260000</td>\n",
       "      <td>-241.000000</td>\n",
       "      <td>-23.020000</td>\n",
       "      <td>-3748.050000</td>\n",
       "      <td>0.000000</td>\n",
       "      <td>1.000000</td>\n",
       "    </tr>\n",
       "    <tr>\n",
       "      <td>25%</td>\n",
       "      <td>54.000000</td>\n",
       "      <td>3.111710e+05</td>\n",
       "      <td>94.000000</td>\n",
       "      <td>53.515000</td>\n",
       "      <td>17.040000</td>\n",
       "      <td>-85.870000</td>\n",
       "      <td>0.000000</td>\n",
       "      <td>0.000000</td>\n",
       "      <td>0.000000</td>\n",
       "      <td>0.000000</td>\n",
       "      <td>0.000000</td>\n",
       "      <td>94.000000</td>\n",
       "      <td>1.000000</td>\n",
       "    </tr>\n",
       "    <tr>\n",
       "      <td>50%</td>\n",
       "      <td>142.000000</td>\n",
       "      <td>9.121540e+05</td>\n",
       "      <td>156.000000</td>\n",
       "      <td>108.790000</td>\n",
       "      <td>75.160000</td>\n",
       "      <td>-29.560000</td>\n",
       "      <td>0.000000</td>\n",
       "      <td>0.000000</td>\n",
       "      <td>0.000000</td>\n",
       "      <td>0.000000</td>\n",
       "      <td>0.000000</td>\n",
       "      <td>156.000000</td>\n",
       "      <td>1.000000</td>\n",
       "    </tr>\n",
       "    <tr>\n",
       "      <td>75%</td>\n",
       "      <td>237.000000</td>\n",
       "      <td>1.244490e+06</td>\n",
       "      <td>232.000000</td>\n",
       "      <td>164.820000</td>\n",
       "      <td>113.180000</td>\n",
       "      <td>0.000000</td>\n",
       "      <td>0.000000</td>\n",
       "      <td>0.000000</td>\n",
       "      <td>0.000000</td>\n",
       "      <td>0.000000</td>\n",
       "      <td>0.000000</td>\n",
       "      <td>232.000000</td>\n",
       "      <td>1.000000</td>\n",
       "    </tr>\n",
       "    <tr>\n",
       "      <td>max</td>\n",
       "      <td>856.000000</td>\n",
       "      <td>1.424942e+06</td>\n",
       "      <td>32756.000000</td>\n",
       "      <td>23445.000000</td>\n",
       "      <td>14729.370000</td>\n",
       "      <td>1399.230000</td>\n",
       "      <td>2477.910000</td>\n",
       "      <td>24230.000000</td>\n",
       "      <td>695.080000</td>\n",
       "      <td>74.400000</td>\n",
       "      <td>3011.070000</td>\n",
       "      <td>32756.000000</td>\n",
       "      <td>120.000000</td>\n",
       "    </tr>\n",
       "  </tbody>\n",
       "</table>\n",
       "</div>"
      ],
      "text/plain": [
       "             Bt Nbr       Per Nbr    Billed Amt      Aprv Amt      Alwd Amt  \\\n",
       "count  17418.000000  1.741800e+04  17418.000000  17418.000000  17418.000000   \n",
       "mean     161.196349  7.782413e+05    247.084138    201.533147    101.650464   \n",
       "std      126.128441  4.841025e+05   1026.066028   1105.984842    379.251980   \n",
       "min        1.000000  2.600000e+01      0.010000   -724.710000   -568.380000   \n",
       "25%       54.000000  3.111710e+05     94.000000     53.515000     17.040000   \n",
       "50%      142.000000  9.121540e+05    156.000000    108.790000     75.160000   \n",
       "75%      237.000000  1.244490e+06    232.000000    164.820000    113.180000   \n",
       "max      856.000000  1.424942e+06  32756.000000  23445.000000  14729.370000   \n",
       "\n",
       "            Pay Amt       Ded Amt       Primary     Secondary      Tertiary  \\\n",
       "count  17418.000000  17418.000000  17418.000000  17418.000000  17418.000000   \n",
       "mean     -66.352441     11.220446     11.100074      2.075214      0.012987   \n",
       "std      344.757647     50.346897    279.324345     16.386612      0.768101   \n",
       "min   -14400.480000  -1039.960000   -330.260000   -241.000000    -23.020000   \n",
       "25%      -85.870000      0.000000      0.000000      0.000000      0.000000   \n",
       "50%      -29.560000      0.000000      0.000000      0.000000      0.000000   \n",
       "75%        0.000000      0.000000      0.000000      0.000000      0.000000   \n",
       "max     1399.230000   2477.910000  24230.000000    695.080000     74.400000   \n",
       "\n",
       "            Pat Amt    Unit Price         Count  \n",
       "count  17418.000000  17418.000000  17418.000000  \n",
       "mean       4.295480    241.053221      1.136411  \n",
       "std       73.249013   1001.231053      2.348026  \n",
       "min    -3748.050000      0.000000      1.000000  \n",
       "25%        0.000000     94.000000      1.000000  \n",
       "50%        0.000000    156.000000      1.000000  \n",
       "75%        0.000000    232.000000      1.000000  \n",
       "max     3011.070000  32756.000000    120.000000  "
      ]
     },
     "execution_count": 165,
     "metadata": {},
     "output_type": "execute_result"
    }
   ],
   "source": [
    "creport.describe()"
   ]
  },
  {
   "cell_type": "code",
   "execution_count": 14,
   "metadata": {},
   "outputs": [],
   "source": [
    "creport.drop(columns=['Tran Cd', 'Md Rc', 'Tran Dt', 'Dt of Svc', 'Tran Status', 'Reason Cds/Remarks Desc', 'Reason Code SubGrp 1', 'Reason Cds/Remarks', 'CPT4 Desc'],inplace=True)"
   ]
  },
  {
   "cell_type": "code",
   "execution_count": 15,
   "metadata": {},
   "outputs": [
    {
     "data": {
      "text/html": [
       "<div>\n",
       "<style scoped>\n",
       "    .dataframe tbody tr th:only-of-type {\n",
       "        vertical-align: middle;\n",
       "    }\n",
       "\n",
       "    .dataframe tbody tr th {\n",
       "        vertical-align: top;\n",
       "    }\n",
       "\n",
       "    .dataframe thead th {\n",
       "        text-align: right;\n",
       "    }\n",
       "</style>\n",
       "<table border=\"1\" class=\"dataframe\">\n",
       "  <thead>\n",
       "    <tr style=\"text-align: right;\">\n",
       "      <th></th>\n",
       "      <th>Bt Nbr</th>\n",
       "      <th>Per Nbr</th>\n",
       "      <th>Billed Amt</th>\n",
       "      <th>Aprv Amt</th>\n",
       "      <th>Alwd Amt</th>\n",
       "      <th>Pay Amt</th>\n",
       "      <th>Ded Amt</th>\n",
       "      <th>CPT4</th>\n",
       "      <th>Primary</th>\n",
       "      <th>Secondary</th>\n",
       "      <th>Tertiary</th>\n",
       "      <th>Pat Amt</th>\n",
       "      <th>Unit Price</th>\n",
       "      <th>Count</th>\n",
       "      <th>Diag 1</th>\n",
       "      <th>Diag 2</th>\n",
       "      <th>Department</th>\n",
       "      <th>Component</th>\n",
       "      <th>Payer Name</th>\n",
       "    </tr>\n",
       "  </thead>\n",
       "  <tbody>\n",
       "    <tr>\n",
       "      <td>0</td>\n",
       "      <td>251</td>\n",
       "      <td>26</td>\n",
       "      <td>15.0</td>\n",
       "      <td>115.34</td>\n",
       "      <td>0.00</td>\n",
       "      <td>0.00</td>\n",
       "      <td>0.0</td>\n",
       "      <td>99000</td>\n",
       "      <td>0.0</td>\n",
       "      <td>0.0</td>\n",
       "      <td>0.0</td>\n",
       "      <td>0.0</td>\n",
       "      <td>15.0</td>\n",
       "      <td>1</td>\n",
       "      <td>M62.00</td>\n",
       "      <td>N32.89</td>\n",
       "      <td>Medicine</td>\n",
       "      <td>Professional</td>\n",
       "      <td>United Health Care</td>\n",
       "    </tr>\n",
       "    <tr>\n",
       "      <td>1</td>\n",
       "      <td>251</td>\n",
       "      <td>26</td>\n",
       "      <td>13.0</td>\n",
       "      <td>115.34</td>\n",
       "      <td>2.16</td>\n",
       "      <td>-2.16</td>\n",
       "      <td>0.0</td>\n",
       "      <td>81002</td>\n",
       "      <td>0.0</td>\n",
       "      <td>0.0</td>\n",
       "      <td>0.0</td>\n",
       "      <td>0.0</td>\n",
       "      <td>13.0</td>\n",
       "      <td>1</td>\n",
       "      <td>R10.2</td>\n",
       "      <td>NaN</td>\n",
       "      <td>Laboratory</td>\n",
       "      <td>Professional</td>\n",
       "      <td>United Health Care</td>\n",
       "    </tr>\n",
       "    <tr>\n",
       "      <td>2</td>\n",
       "      <td>251</td>\n",
       "      <td>26</td>\n",
       "      <td>156.0</td>\n",
       "      <td>115.34</td>\n",
       "      <td>113.18</td>\n",
       "      <td>-83.18</td>\n",
       "      <td>0.0</td>\n",
       "      <td>99213</td>\n",
       "      <td>0.0</td>\n",
       "      <td>0.0</td>\n",
       "      <td>0.0</td>\n",
       "      <td>-20.0</td>\n",
       "      <td>156.0</td>\n",
       "      <td>1</td>\n",
       "      <td>R10.2</td>\n",
       "      <td>R35.0</td>\n",
       "      <td>E/M Service</td>\n",
       "      <td>Global</td>\n",
       "      <td>United Health Care</td>\n",
       "    </tr>\n",
       "    <tr>\n",
       "      <td>3</td>\n",
       "      <td>129</td>\n",
       "      <td>33</td>\n",
       "      <td>253.0</td>\n",
       "      <td>0.00</td>\n",
       "      <td>0.00</td>\n",
       "      <td>0.00</td>\n",
       "      <td>NaN</td>\n",
       "      <td>99396</td>\n",
       "      <td>0.0</td>\n",
       "      <td>0.0</td>\n",
       "      <td>0.0</td>\n",
       "      <td>0.0</td>\n",
       "      <td>253.0</td>\n",
       "      <td>1</td>\n",
       "      <td>Z01.419</td>\n",
       "      <td>Z00.00</td>\n",
       "      <td>E/M Preventive Medicine</td>\n",
       "      <td>Professional</td>\n",
       "      <td>Cigna Local Plus Open Access PPO</td>\n",
       "    </tr>\n",
       "    <tr>\n",
       "      <td>4</td>\n",
       "      <td>22</td>\n",
       "      <td>141</td>\n",
       "      <td>15.0</td>\n",
       "      <td>2.80</td>\n",
       "      <td>2.80</td>\n",
       "      <td>0.00</td>\n",
       "      <td>0.0</td>\n",
       "      <td>J3420</td>\n",
       "      <td>0.0</td>\n",
       "      <td>0.0</td>\n",
       "      <td>0.0</td>\n",
       "      <td>0.0</td>\n",
       "      <td>15.0</td>\n",
       "      <td>1</td>\n",
       "      <td>J40</td>\n",
       "      <td>NaN</td>\n",
       "      <td>J Codes</td>\n",
       "      <td>Professional</td>\n",
       "      <td>Aetna  60054</td>\n",
       "    </tr>\n",
       "  </tbody>\n",
       "</table>\n",
       "</div>"
      ],
      "text/plain": [
       "   Bt Nbr  Per Nbr  Billed Amt  Aprv Amt  Alwd Amt  Pay Amt  Ded Amt   CPT4  \\\n",
       "0     251       26        15.0    115.34      0.00     0.00      0.0  99000   \n",
       "1     251       26        13.0    115.34      2.16    -2.16      0.0  81002   \n",
       "2     251       26       156.0    115.34    113.18   -83.18      0.0  99213   \n",
       "3     129       33       253.0      0.00      0.00     0.00      NaN  99396   \n",
       "4      22      141        15.0      2.80      2.80     0.00      0.0  J3420   \n",
       "\n",
       "   Primary  Secondary  Tertiary  Pat Amt  Unit Price  Count   Diag 1  Diag 2  \\\n",
       "0      0.0        0.0       0.0      0.0        15.0      1   M62.00  N32.89   \n",
       "1      0.0        0.0       0.0      0.0        13.0      1    R10.2     NaN   \n",
       "2      0.0        0.0       0.0    -20.0       156.0      1    R10.2   R35.0   \n",
       "3      0.0        0.0       0.0      0.0       253.0      1  Z01.419  Z00.00   \n",
       "4      0.0        0.0       0.0      0.0        15.0      1      J40     NaN   \n",
       "\n",
       "                Department     Component                        Payer Name  \n",
       "0                 Medicine  Professional                United Health Care  \n",
       "1               Laboratory  Professional                United Health Care  \n",
       "2              E/M Service        Global                United Health Care  \n",
       "3  E/M Preventive Medicine  Professional  Cigna Local Plus Open Access PPO  \n",
       "4                  J Codes  Professional                      Aetna  60054  "
      ]
     },
     "execution_count": 15,
     "metadata": {},
     "output_type": "execute_result"
    }
   ],
   "source": [
    "creport.head()"
   ]
  },
  {
   "cell_type": "code",
   "execution_count": 16,
   "metadata": {},
   "outputs": [
    {
     "data": {
      "text/plain": [
       "Bt Nbr            0\n",
       "Per Nbr           0\n",
       "Billed Amt        0\n",
       "Aprv Amt          0\n",
       "Alwd Amt       2871\n",
       "Pay Amt           0\n",
       "Ded Amt        5412\n",
       "CPT4              0\n",
       "Primary           0\n",
       "Secondary         0\n",
       "Tertiary          0\n",
       "Pat Amt           0\n",
       "Unit Price        0\n",
       "Count             0\n",
       "Diag 1          228\n",
       "Diag 2        20670\n",
       "Department      928\n",
       "Component       236\n",
       "Payer Name        0\n",
       "dtype: int64"
      ]
     },
     "execution_count": 16,
     "metadata": {},
     "output_type": "execute_result"
    }
   ],
   "source": [
    "creport.isnull().sum()"
   ]
  },
  {
   "cell_type": "code",
   "execution_count": 67,
   "metadata": {},
   "outputs": [
    {
     "data": {
      "text/plain": [
       "<matplotlib.axes._subplots.AxesSubplot at 0x249d394f288>"
      ]
     },
     "execution_count": 67,
     "metadata": {},
     "output_type": "execute_result"
    },
    {
     "data": {
      "image/png": "[encoded data removed]",
      "text/plain": [
       "<Figure size 1152x1008 with 2 Axes>"
      ]
     },
     "metadata": {
      "needs_background": "light"
     },
     "output_type": "display_data"
    }
   ],
   "source": [
    "fig, ax= plt.subplots(figsize=(16,14))\n",
    "sns.heatmap(creport.isnull().corr(),annot=True)"
   ]
  },
  {
   "cell_type": "code",
   "execution_count": 69,
   "metadata": {},
   "outputs": [],
   "source": [
    "c=creport.isnull().sum()"
   ]
  },
  {
   "cell_type": "code",
   "execution_count": 71,
   "metadata": {},
   "outputs": [
    {
     "data": {
      "text/plain": [
       "<matplotlib.axes._subplots.AxesSubplot at 0x249d61cbe88>"
      ]
     },
     "execution_count": 71,
     "metadata": {},
     "output_type": "execute_result"
    },
    {
     "data": {
      "image/png": "[encoded data removed]",
      "text/plain": [
       "<Figure size 1368x1080 with 1 Axes>"
      ]
     },
     "metadata": {
      "needs_background": "light"
     },
     "output_type": "display_data"
    }
   ],
   "source": [
    "#Show null Value with the help of distplot\n",
    "f = plt.figure(figsize=(19, 15))\n",
    "sns.distplot(c,hist=True)"
   ]
  },
  {
   "cell_type": "code",
   "execution_count": 80,
   "metadata": {},
   "outputs": [
    {
     "data": {
      "image/png": "[encoded data removed]",
      "text/plain": [
       "<Figure size 720x720 with 16 Axes>"
      ]
     },
     "metadata": {
      "needs_background": "light"
     },
     "output_type": "display_data"
    }
   ],
   "source": [
    "p = creport.hist(figsize = (10,10))"
   ]
  },
  {
   "cell_type": "code",
   "execution_count": 83,
   "metadata": {},
   "outputs": [
    {
     "data": {
      "text/plain": [
       "<matplotlib.axes._subplots.AxesSubplot at 0x248ee453948>"
      ]
     },
     "execution_count": 83,
     "metadata": {},
     "output_type": "execute_result"
    },
    {
     "data": {
      "image/png": "[encoded data removed]",
      "text/plain": [
       "<Figure size 720x720 with 1 Axes>"
      ]
     },
     "metadata": {
      "needs_background": "light"
     },
     "output_type": "display_data"
    }
   ],
   "source": [
    "creport.boxplot(figsize = (10,10))"
   ]
  },
  {
   "cell_type": "code",
   "execution_count": 17,
   "metadata": {},
   "outputs": [
    {
     "name": "stdout",
     "output_type": "stream",
     "text": [
      "       Bt Nbr  Per Nbr  Billed Amt  Aprv Amt  Alwd Amt  Pay Amt  Ded Amt  \\\n",
      "0         251       26        15.0    115.34      0.00     0.00     0.00   \n",
      "2         251       26       156.0    115.34    113.18   -83.18     0.00   \n",
      "9         328      394       232.0    126.18    109.14   -56.82    37.83   \n",
      "11        251      394       232.0     55.50     52.09   -52.09     0.00   \n",
      "12        157      396       232.0    109.14    109.14     0.00     0.00   \n",
      "...       ...      ...         ...       ...       ...      ...      ...   \n",
      "41277      78  1423993       233.0    318.33    233.00     0.00     0.00   \n",
      "41278     102  1423999       233.0    107.76    107.76   -84.49     0.00   \n",
      "41279     140  1423999       233.0     21.55     21.55   -21.55     0.00   \n",
      "41284     212  1424197       233.0    144.39    144.39  -144.39     0.00   \n",
      "41285     179  1424942       358.0    164.58    164.58  -131.13     0.00   \n",
      "\n",
      "        CPT4  Primary  Secondary  Tertiary  Pat Amt  Unit Price  Count  \\\n",
      "0      99000      0.0       0.00       0.0      0.0        15.0      1   \n",
      "2      99213      0.0       0.00       0.0    -20.0       156.0      1   \n",
      "9      99214      0.0       0.00       0.0      0.0       232.0      1   \n",
      "11     99214      0.0       0.00       0.0      0.0       232.0      1   \n",
      "12     99214      0.0       0.00       0.0      0.0       232.0      1   \n",
      "...      ...      ...        ...       ...      ...         ...    ...   \n",
      "41277  99203    233.0       0.00       0.0      0.0       233.0      1   \n",
      "41278  99203      0.0       0.00       0.0      0.0       233.0      1   \n",
      "41279  99203      0.0       0.00       0.0      0.0       233.0      1   \n",
      "41284  99203      0.0       0.00       0.0      0.0       233.0      1   \n",
      "41285  99204      0.0      32.92       0.0      0.0       358.0      1   \n",
      "\n",
      "        Diag 1   Diag 2                Department     Component  \\\n",
      "0       M62.00   N32.89                  Medicine  Professional   \n",
      "2        R10.2    R35.0               E/M Service        Global   \n",
      "9       E11.42   E11.69               E/M Service  Professional   \n",
      "11      E11.42   E11.69               E/M Service  Professional   \n",
      "12       Z00.8    D69.2               E/M Service  Professional   \n",
      "...        ...      ...                       ...           ...   \n",
      "41277   Z34.90   Z3A.01  Medicaid Family Planning  Professional   \n",
      "41278  M25.512  M75.112               E/M Service  Professional   \n",
      "41279  M25.512  M75.112               E/M Service  Professional   \n",
      "41284   K59.00      Z09               E/M Service        Global   \n",
      "41285  I70.235  L03.115               E/M Service  Professional   \n",
      "\n",
      "                            Payer Name  \n",
      "0                   United Health Care  \n",
      "2                   United Health Care  \n",
      "9                             Medicare  \n",
      "11              Blue Cross Blue Shield  \n",
      "12                         UHC WellMed  \n",
      "...                                ...  \n",
      "41277                        Cook Star  \n",
      "41278                         Medicare  \n",
      "41279  Blue Cross Blue Shield Medicare  \n",
      "41284           Blue Cross Blue Shield  \n",
      "41285                         Medicare  \n",
      "\n",
      "[17505 rows x 19 columns]\n"
     ]
    }
   ],
   "source": [
    "creport = creport.dropna()\n",
    "print(creport)"
   ]
  },
  {
   "cell_type": "code",
   "execution_count": 18,
   "metadata": {},
   "outputs": [
    {
     "data": {
      "text/plain": [
       "Bt Nbr        0\n",
       "Per Nbr       0\n",
       "Billed Amt    0\n",
       "Aprv Amt      0\n",
       "Alwd Amt      0\n",
       "Pay Amt       0\n",
       "Ded Amt       0\n",
       "CPT4          0\n",
       "Primary       0\n",
       "Secondary     0\n",
       "Tertiary      0\n",
       "Pat Amt       0\n",
       "Unit Price    0\n",
       "Count         0\n",
       "Diag 1        0\n",
       "Diag 2        0\n",
       "Department    0\n",
       "Component     0\n",
       "Payer Name    0\n",
       "dtype: int64"
      ]
     },
     "execution_count": 18,
     "metadata": {},
     "output_type": "execute_result"
    }
   ],
   "source": [
    "creport.isnull().sum()"
   ]
  },
  {
   "cell_type": "code",
   "execution_count": 19,
   "metadata": {},
   "outputs": [
    {
     "data": {
      "text/plain": [
       "array([99000, 99213, 99214, 99204, 36415, 99203, 95117, 76830, 99397,\n",
       "       99215, 20552, 73560, 73565, 95024, 95004, 'G0179', 98967, 99396,\n",
       "       99212, 69210, 73030, 20610, 'J3301', 99395, 72050, 'J7326', 73564,\n",
       "       99386, 26055, 99387, 99496, 31231, 99442, 99202, 99211, 93000,\n",
       "       73600, 92250, 'G0180', 99490, 73010, 99220, 99225, 99217, 99205,\n",
       "       'J1100', 72110, 99443, 'G0101', 95819, 95957, 37225, 76937, 75710,\n",
       "       37229, 31579, 73562, 61782, 73620, 76815, 99244, 58552, 93926,\n",
       "       99219, 95886, 95909, 92597, 99243, 58110, 87804, 'Q0091', 59430,\n",
       "       73130, 99226, 98966, 85610, 'J3490', 64405, 'J1030', 41112, 73020,\n",
       "       95165, 45380, 43239, 58571, 75736, 27447, 20611, 20550, 45385,\n",
       "       93306, 76819, 90688, 76816, 43281, 31575, 96372, 'J2790', 'J0702',\n",
       "       37227, 76942, 93458, 62350, 62362, 73110, 20526, 73070, 'J7325',\n",
       "       95816, 58301, 72170, 10060, 19125, 76805, 92511, 81002, 58662,\n",
       "       95115, 58340, 76831, 91037, 90715, 95910, 76801, 72100, 51727,\n",
       "       63650, 63685, 73100, 20605, 97032, 97112, 31237, 43249, 20600,\n",
       "       45382, 99385, 76818, 93325, 93320, 93312, 20680, 95908, 'L3670',\n",
       "       36416, 31297, 90471, 58661, 31267, 29075, 92960, 57160, 76817,\n",
       "       93971, 76810, 57288, 57452, 76802, 59025, 29130, 99495, 23620,\n",
       "       73590, 37236, 75716, 37224, 59425, 59426, 87210, 72020, 58563,\n",
       "       37233, 26725, 26720, 37231, 67820, 46320, 46600, 19120, 69436,\n",
       "       10021, 69646, 69310, 15770, 31295, 64635, 64636, 69660, 31276,\n",
       "       91122, 51784, 97750, 92285, 25600, 92585, 92557, 93978, 'A4562',\n",
       "       27607, 97605, 43282, 64595, 76098, 99201, 58558, 21235, 69602,\n",
       "       69633, 92502, 73140, 73650, 36561, 77001, 92552, 92556, 92570,\n",
       "       99232, 37220, 99236, 59821, 93925, 73610, 92616, 57260, 11983,\n",
       "       27524, 'L1833', 99393, 99242, 58350, 19020, 93571, 93572, 92928,\n",
       "       90966, 97110, 97140, 99218, '3075F', 31571, 31641, 76705, 'L1902',\n",
       "       43246, 87880, 99394, 73080, 'J1094', 93922, 92943, 24650, 57454,\n",
       "       'J1040', 'L1820', 'L2795', 58570, 90687, 93455, 92567, 58300,\n",
       "       92610, 94640, 99384, 'G0008', 92504, 59820, 93454, 99235, 28510,\n",
       "       73660, 69145, 99392, 96127, 60220, 99051, 'G0268', 63661, 63688,\n",
       "       69610, 19303, 'L4387', 'e0748', '3074F', 'G0402', 92507, 99406,\n",
       "       60240, 99383, 99391, 95911, 90472, 93018, 78452, '1111F', 43226,\n",
       "       58150, 42800, 76856, 85018, 44180, 81025, 30520, 30930, 30802,\n",
       "       31287, 31240, 81003, 64857, 90461, 20551, 83986, 42830, 37221,\n",
       "       76857, 'J3420', 31615, 72080, 11302, 91038, 91010, 15851, 96110,\n",
       "       99382, 99381, 36590, 51797, 51729, 51741, 'L3760', 'J7307', 73552,\n",
       "       57455, 'J0696', 69631, 62140, 73630, 77073, 43235], dtype=object)"
      ]
     },
     "execution_count": 19,
     "metadata": {},
     "output_type": "execute_result"
    }
   ],
   "source": [
    "creport['CPT4'].nunique()\n",
    "creport['CPT4'].unique()"
   ]
  },
  {
   "cell_type": "code",
   "execution_count": 20,
   "metadata": {},
   "outputs": [
    {
     "data": {
      "text/plain": [
       "17505"
      ]
     },
     "execution_count": 20,
     "metadata": {},
     "output_type": "execute_result"
    }
   ],
   "source": [
    "creport['CPT4'].count()"
   ]
  },
  {
   "cell_type": "code",
   "execution_count": 21,
   "metadata": {},
   "outputs": [],
   "source": [
    "cc=creport['CPT4'].str.replace('[a-zA-Z0-9]', '0')"
   ]
  },
  {
   "cell_type": "code",
   "execution_count": 22,
   "metadata": {},
   "outputs": [
    {
     "data": {
      "text/plain": [
       "array([nan, '00000'], dtype=object)"
      ]
     },
     "execution_count": 22,
     "metadata": {},
     "output_type": "execute_result"
    }
   ],
   "source": [
    "cc.unique()"
   ]
  },
  {
   "cell_type": "code",
   "execution_count": 23,
   "metadata": {},
   "outputs": [],
   "source": [
    "dd=pd.to_numeric(creport['CPT4'], errors='coerce')"
   ]
  },
  {
   "cell_type": "code",
   "execution_count": 24,
   "metadata": {},
   "outputs": [],
   "source": [
    "ee=cc.dropna()"
   ]
  },
  {
   "cell_type": "code",
   "execution_count": 25,
   "metadata": {},
   "outputs": [],
   "source": [
    "f=dd.fillna(ee)"
   ]
  },
  {
   "cell_type": "code",
   "execution_count": 26,
   "metadata": {},
   "outputs": [],
   "source": [
    "creport['CPT4']=f"
   ]
  },
  {
   "cell_type": "code",
   "execution_count": 27,
   "metadata": {},
   "outputs": [
    {
     "data": {
      "text/plain": [
       "0        99000\n",
       "2        99213\n",
       "9        99214\n",
       "11       99214\n",
       "12       99214\n",
       "         ...  \n",
       "41277    99203\n",
       "41278    99203\n",
       "41279    99203\n",
       "41284    99203\n",
       "41285    99204\n",
       "Name: CPT4, Length: 17505, dtype: object"
      ]
     },
     "execution_count": 27,
     "metadata": {},
     "output_type": "execute_result"
    }
   ],
   "source": [
    "creport['CPT4']"
   ]
  },
  {
   "cell_type": "code",
   "execution_count": 48,
   "metadata": {},
   "outputs": [],
   "source": [
    "y = f.astype('int')"
   ]
  },
  {
   "cell_type": "code",
   "execution_count": 29,
   "metadata": {},
   "outputs": [],
   "source": [
    "creport.drop(columns=['CPT4'],inplace=True)"
   ]
  },
  {
   "cell_type": "code",
   "execution_count": 49,
   "metadata": {},
   "outputs": [],
   "source": [
    "x = creport.iloc[:,:-6]"
   ]
  },
  {
   "cell_type": "code",
   "execution_count": 31,
   "metadata": {},
   "outputs": [
    {
     "data": {
      "text/plain": [
       "Index(['Bt Nbr', 'Per Nbr', 'Billed Amt', 'Aprv Amt', 'Alwd Amt', 'Pay Amt',\n",
       "       'Ded Amt', 'Primary', 'Secondary', 'Tertiary', 'Pat Amt', 'Unit Price',\n",
       "       'Count', 'Diag 1', 'Diag 2', 'Department', 'Component', 'Payer Name'],\n",
       "      dtype='object')"
      ]
     },
     "execution_count": 31,
     "metadata": {},
     "output_type": "execute_result"
    }
   ],
   "source": [
    "creport.columns"
   ]
  },
  {
   "cell_type": "code",
   "execution_count": 50,
   "metadata": {},
   "outputs": [],
   "source": [
    "from sklearn.model_selection import train_test_split\n",
    "x_train, x_test, y_train, y_test = train_test_split(x,y, test_size=0.2, random_state=0)"
   ]
  },
  {
   "cell_type": "code",
   "execution_count": 33,
   "metadata": {},
   "outputs": [],
   "source": [
    "from sklearn.linear_model import LinearRegression\n",
    "reg = LinearRegression()"
   ]
  },
  {
   "cell_type": "code",
   "execution_count": 34,
   "metadata": {},
   "outputs": [
    {
     "data": {
      "text/plain": [
       "LinearRegression()"
      ]
     },
     "execution_count": 34,
     "metadata": {},
     "output_type": "execute_result"
    }
   ],
   "source": [
    "reg.fit(x_train, y_train)"
   ]
  },
  {
   "cell_type": "code",
   "execution_count": 35,
   "metadata": {},
   "outputs": [],
   "source": [
    "y_pred = reg.predict(x_test)"
   ]
  },
  {
   "cell_type": "code",
   "execution_count": 36,
   "metadata": {},
   "outputs": [],
   "source": [
    "import sklearn.metrics as metrics"
   ]
  },
  {
   "cell_type": "code",
   "execution_count": 37,
   "metadata": {},
   "outputs": [],
   "source": [
    "mae = metrics.mean_absolute_error(y_test, y_pred)\n",
    "mse = metrics.mean_squared_error(y_test, y_pred)\n",
    "r2  = metrics.r2_score(y_test, y_pred)"
   ]
  },
  {
   "cell_type": "code",
   "execution_count": 38,
   "metadata": {},
   "outputs": [
    {
     "name": "stdout",
     "output_type": "stream",
     "text": [
      "15683.900716769705\n",
      "531563844.46397597\n",
      "0.017312880687988197\n"
     ]
    }
   ],
   "source": [
    "print(mae)\n",
    "print(mse)\n",
    "print(r2)"
   ]
  },
  {
   "cell_type": "code",
   "execution_count": 45,
   "metadata": {},
   "outputs": [],
   "source": [
    "for i,x in enumerate(y_pred):\n",
    "    y_pred[i]=x.astype('int')"
   ]
  },
  {
   "cell_type": "code",
   "execution_count": 51,
   "metadata": {},
   "outputs": [],
   "source": [
    "from sklearn.linear_model import LogisticRegression\n",
    "classification = LogisticRegression()"
   ]
  },
  {
   "cell_type": "code",
   "execution_count": 52,
   "metadata": {},
   "outputs": [
    {
     "name": "stderr",
     "output_type": "stream",
     "text": [
      "C:\\Users\\DELL\\Anaconda3\\lib\\site-packages\\sklearn\\linear_model\\_logistic.py:764: ConvergenceWarning: lbfgs failed to converge (status=1):\n",
      "STOP: TOTAL NO. of ITERATIONS REACHED LIMIT.\n",
      "\n",
      "Increase the number of iterations (max_iter) or scale the data as shown in:\n",
      "    https://scikit-learn.org/stable/modules/preprocessing.html\n",
      "Please also refer to the documentation for alternative solver options:\n",
      "    https://scikit-learn.org/stable/modules/linear_model.html#logistic-regression\n",
      "  extra_warning_msg=_LOGISTIC_SOLVER_CONVERGENCE_MSG)\n"
     ]
    },
    {
     "data": {
      "text/plain": [
       "LogisticRegression()"
      ]
     },
     "execution_count": 52,
     "metadata": {},
     "output_type": "execute_result"
    }
   ],
   "source": [
    "classification.fit(x_train, y_train)"
   ]
  },
  {
   "cell_type": "code",
   "execution_count": 53,
   "metadata": {},
   "outputs": [],
   "source": [
    "y_pred = classification.predict(x_test)"
   ]
  },
  {
   "cell_type": "code",
   "execution_count": 54,
   "metadata": {},
   "outputs": [
    {
     "name": "stdout",
     "output_type": "stream",
     "text": [
      "              precision    recall  f1-score   support\n",
      "\n",
      "           0       0.00      0.00      0.00        71\n",
      "       10021       0.00      0.00      0.00         2\n",
      "       15770       0.00      0.00      0.00         1\n",
      "       19303       0.00      0.00      0.00         1\n",
      "       20526       0.00      0.00      0.00         2\n",
      "       20550       0.00      0.00      0.00         6\n",
      "       20552       0.00      0.00      0.00         1\n",
      "       20600       0.00      0.00      0.00         2\n",
      "       20605       0.00      0.00      0.00         1\n",
      "       20610       0.00      0.00      0.00        27\n",
      "       20611       0.00      0.00      0.00         3\n",
      "       20680       0.00      0.00      0.00         1\n",
      "       25600       0.00      0.00      0.00         2\n",
      "       26055       0.00      0.00      0.00         2\n",
      "       26720       0.00      0.00      0.00         1\n",
      "       26725       0.00      0.00      0.00         1\n",
      "       27447       0.00      0.00      0.00         1\n",
      "       27607       0.00      0.00      0.00         1\n",
      "       29130       0.00      0.00      0.00         1\n",
      "       30520       0.00      0.00      0.00         1\n",
      "       30802       0.00      0.00      0.00         2\n",
      "       31231       0.00      0.00      0.00        14\n",
      "       31237       0.00      0.00      0.00         3\n",
      "       31240       0.00      0.00      0.00         1\n",
      "       31267       0.00      0.00      0.00         1\n",
      "       31287       0.00      0.00      0.00         1\n",
      "       31295       0.00      0.00      0.00         1\n",
      "       31571       0.00      0.00      0.00         1\n",
      "       31575       0.00      0.00      0.00         3\n",
      "       31579       0.00      0.00      0.00        31\n",
      "       31615       0.00      0.00      0.00         1\n",
      "       31641       0.00      0.00      0.00         1\n",
      "       36415       0.00      0.00      0.00       167\n",
      "       36416       0.00      0.00      0.00         1\n",
      "       37225       0.00      0.00      0.00         2\n",
      "       37229       0.00      0.00      0.00         2\n",
      "       37236       0.00      0.00      0.00         1\n",
      "       43226       0.00      0.00      0.00         1\n",
      "       43239       0.00      0.00      0.00         1\n",
      "       43281       0.00      0.00      0.00         1\n",
      "       43282       0.00      0.00      0.00         1\n",
      "       45380       0.00      0.00      0.00         1\n",
      "       45382       0.00      0.00      0.00         1\n",
      "       46320       0.00      0.00      0.00         1\n",
      "       51784       0.00      0.00      0.00         2\n",
      "       57160       0.00      0.00      0.00         1\n",
      "       57454       0.00      0.00      0.00         2\n",
      "       57455       0.00      0.00      0.00         1\n",
      "       58110       0.00      0.00      0.00         1\n",
      "       58300       0.00      0.00      0.00         1\n",
      "       58552       0.00      0.00      0.00         3\n",
      "       58563       0.00      0.00      0.00         1\n",
      "       58571       0.00      0.00      0.00         4\n",
      "       58661       0.00      0.00      0.00         2\n",
      "       58662       0.00      0.00      0.00         1\n",
      "       59025       0.00      0.00      0.00         2\n",
      "       59425       0.00      0.00      0.00         4\n",
      "       59426       0.00      0.00      0.00         5\n",
      "       59430       0.00      0.00      0.00        11\n",
      "       60220       0.00      0.00      0.00         2\n",
      "       60240       0.00      0.00      0.00         1\n",
      "       61782       0.00      0.00      0.00         3\n",
      "       62350       0.00      0.00      0.00         2\n",
      "       63650       0.00      0.00      0.00         2\n",
      "       63685       0.00      0.00      0.00         2\n",
      "       64595       0.00      0.00      0.00         1\n",
      "       64857       0.00      0.00      0.00         1\n",
      "       67820       0.00      0.00      0.00         1\n",
      "       69210       0.00      0.00      0.00         2\n",
      "       69436       0.00      0.00      0.00         2\n",
      "       69602       0.00      0.00      0.00         1\n",
      "       69660       0.00      0.00      0.00         1\n",
      "       72050       0.00      0.00      0.00         4\n",
      "       72100       0.00      0.00      0.00         2\n",
      "       72110       0.00      0.00      0.00        12\n",
      "       72170       0.00      0.00      0.00         2\n",
      "       73010       0.00      0.00      0.00         8\n",
      "       73020       0.00      0.00      0.00         2\n",
      "       73030       0.00      0.00      0.00        13\n",
      "       73070       0.00      0.00      0.00         1\n",
      "       73080       0.00      0.00      0.00         1\n",
      "       73110       0.00      0.00      0.00         3\n",
      "       73130       0.00      0.00      0.00         2\n",
      "       73552       0.00      0.00      0.00         1\n",
      "       73560       0.00      0.00      0.00        22\n",
      "       73562       0.00      0.00      0.00         5\n",
      "       73564       0.00      0.00      0.00         3\n",
      "       73565       0.00      0.00      0.00        18\n",
      "       73600       0.00      0.00      0.00         3\n",
      "       73610       0.00      0.00      0.00         2\n",
      "       73620       0.00      0.00      0.00         2\n",
      "       75710       0.00      0.00      0.00         2\n",
      "       75736       0.00      0.00      0.00         1\n",
      "       76705       0.00      0.00      0.00         1\n",
      "       76801       0.00      0.00      0.00        29\n",
      "       76802       0.00      0.00      0.00         1\n",
      "       76805       0.00      0.00      0.00        32\n",
      "       76815       0.00      0.00      0.00        11\n",
      "       76816       0.00      0.00      0.00        64\n",
      "       76817       0.00      0.00      0.00        15\n",
      "       76818       0.00      0.00      0.00         9\n",
      "       76819       0.00      0.00      0.00        28\n",
      "       76830       0.00      0.00      0.00        13\n",
      "       76831       0.00      0.00      0.00         1\n",
      "       76856       0.00      0.00      0.00         2\n",
      "       76857       0.00      0.00      0.00         1\n",
      "       76937       0.00      0.00      0.00         4\n",
      "       78452       0.00      0.00      0.00         1\n",
      "       81002       0.00      0.00      0.00        34\n",
      "       85610       0.00      0.00      0.00         1\n",
      "       87210       0.00      0.00      0.00         1\n",
      "       87804       0.00      0.00      0.00         1\n",
      "       87880       0.00      0.00      0.00         1\n",
      "       90471       0.00      0.00      0.00         3\n",
      "       90688       0.00      0.00      0.00         1\n",
      "       90715       0.00      0.00      0.00         3\n",
      "       91010       0.00      0.00      0.00         1\n",
      "       91037       0.00      0.00      0.00         3\n",
      "       91122       0.00      0.00      0.00         1\n",
      "       92250       0.00      0.00      0.00         6\n",
      "       92507       0.00      0.00      0.00         1\n",
      "       92511       0.00      0.00      0.00         1\n",
      "       92556       0.00      0.00      0.00         1\n",
      "       92570       0.00      0.00      0.00         1\n",
      "       92585       0.00      0.00      0.00         1\n",
      "       92597       0.00      0.00      0.00         8\n",
      "       92610       0.00      0.00      0.00         1\n",
      "       92928       0.00      0.00      0.00         2\n",
      "       92960       0.00      0.00      0.00         1\n",
      "       93000       0.00      0.00      0.00         1\n",
      "       93306       0.00      0.00      0.00         1\n",
      "       93325       0.00      0.00      0.00         1\n",
      "       93455       0.00      0.00      0.00         1\n",
      "       93458       0.00      0.00      0.00         2\n",
      "       93571       0.00      0.00      0.00         1\n",
      "       93925       0.00      0.00      0.00         1\n",
      "       95004       0.00      0.00      0.00         5\n",
      "       95024       0.00      0.00      0.00         5\n",
      "       95115       0.00      0.00      0.00        16\n",
      "       95117       0.00      0.00      0.00       101\n",
      "       95819       0.00      0.00      0.00         4\n",
      "       95886       0.00      0.00      0.00         3\n",
      "       95910       0.00      0.00      0.00         3\n",
      "       95957       0.00      0.00      0.00         9\n",
      "       96110       0.00      0.00      0.00         1\n",
      "       96127       0.00      0.00      0.00         1\n",
      "       96372       0.00      0.00      0.00         3\n",
      "       97032       0.00      0.00      0.00         7\n",
      "       97110       0.00      0.00      0.00         1\n",
      "       97112       0.00      0.00      0.00         3\n",
      "       98966       0.00      0.00      0.00         1\n",
      "       99000       0.00      0.00      0.00       194\n",
      "       99051       0.00      0.00      0.00         2\n",
      "       99201       0.00      0.00      0.00         2\n",
      "       99202       0.00      0.00      0.00        31\n",
      "       99203       0.00      0.00      0.00       164\n",
      "       99204       0.00      0.00      0.00        71\n",
      "       99205       0.00      0.00      0.00        10\n",
      "       99211       0.00      0.00      0.00         7\n",
      "       99212       0.00      0.00      0.00        91\n",
      "       99213       0.29      1.00      0.45      1014\n",
      "       99214       0.00      0.00      0.00       574\n",
      "       99215       0.00      0.00      0.00        30\n",
      "       99217       0.00      0.00      0.00         6\n",
      "       99220       0.00      0.00      0.00        13\n",
      "       99225       0.00      0.00      0.00         1\n",
      "       99226       0.00      0.00      0.00         1\n",
      "       99236       0.00      0.00      0.00         2\n",
      "       99243       0.00      0.00      0.00        10\n",
      "       99244       0.00      0.00      0.00         6\n",
      "       99381       0.00      0.00      0.00         1\n",
      "       99382       0.00      0.00      0.00         1\n",
      "       99384       0.00      0.00      0.00         3\n",
      "       99385       0.00      0.00      0.00        20\n",
      "       99386       0.00      0.00      0.00        16\n",
      "       99387       0.00      0.00      0.00         3\n",
      "       99391       0.00      0.00      0.00         6\n",
      "       99392       0.00      0.00      0.00        12\n",
      "       99393       0.00      0.00      0.00         8\n",
      "       99394       0.00      0.00      0.00         7\n",
      "       99395       0.00      0.00      0.00        60\n",
      "       99396       0.00      0.00      0.00       101\n",
      "       99397       0.00      0.00      0.00        18\n",
      "       99442       0.00      0.00      0.00         3\n",
      "       99490       0.00      0.00      0.00        16\n",
      "       99495       0.00      0.00      0.00         1\n",
      "       99496       0.00      0.00      0.00         1\n",
      "\n",
      "    accuracy                           0.29      3501\n",
      "   macro avg       0.00      0.01      0.00      3501\n",
      "weighted avg       0.08      0.29      0.13      3501\n",
      "\n"
     ]
    },
    {
     "name": "stderr",
     "output_type": "stream",
     "text": [
      "C:\\Users\\DELL\\Anaconda3\\lib\\site-packages\\sklearn\\metrics\\_classification.py:1221: UndefinedMetricWarning: Precision and F-score are ill-defined and being set to 0.0 in labels with no predicted samples. Use `zero_division` parameter to control this behavior.\n",
      "  _warn_prf(average, modifier, msg_start, len(result))\n"
     ]
    }
   ],
   "source": [
    "from sklearn import metrics\n",
    "print(metrics.classification_report(y_test, y_pred))"
   ]
  },
  {
   "cell_type": "code",
   "execution_count": 55,
   "metadata": {},
   "outputs": [
    {
     "data": {
      "text/plain": [
       "0.28963153384747214"
      ]
     },
     "execution_count": 55,
     "metadata": {},
     "output_type": "execute_result"
    }
   ],
   "source": [
    "from sklearn.metrics import accuracy_score\n",
    "accuracy_score(y_test, y_pred)"
   ]
  },
  {
   "cell_type": "code",
   "execution_count": 57,
   "metadata": {},
   "outputs": [],
   "source": [
    "from sklearn.preprocessing import StandardScaler\n",
    "sc = StandardScaler()\n",
    "X_train = sc.fit_transform(x_train)\n",
    "X_test = sc.transform(x_test)"
   ]
  },
  {
   "cell_type": "code",
   "execution_count": 58,
   "metadata": {},
   "outputs": [
    {
     "data": {
      "text/plain": [
       "DecisionTreeClassifier(criterion='entropy', random_state=0)"
      ]
     },
     "execution_count": 58,
     "metadata": {},
     "output_type": "execute_result"
    }
   ],
   "source": [
    "from sklearn.tree import DecisionTreeClassifier\n",
    "classifier = DecisionTreeClassifier(criterion = 'entropy', random_state = 0)\n",
    "classifier.fit(X_train, y_train)"
   ]
  },
  {
   "cell_type": "code",
   "execution_count": 59,
   "metadata": {},
   "outputs": [],
   "source": [
    "y_pred = classifier.predict(X_test)"
   ]
  },
  {
   "cell_type": "code",
   "execution_count": 60,
   "metadata": {},
   "outputs": [
    {
     "name": "stdout",
     "output_type": "stream",
     "text": [
      "[[70  0  0 ...  0  0  0]\n",
      " [ 0  1  0 ...  0  0  0]\n",
      " [ 0  0  1 ...  0  0  0]\n",
      " ...\n",
      " [ 0  0  0 ... 16  0  0]\n",
      " [ 0  0  0 ...  0  1  0]\n",
      " [ 0  0  0 ...  0  0  1]]\n"
     ]
    }
   ],
   "source": [
    "from sklearn.metrics import confusion_matrix\n",
    "cm = confusion_matrix(y_test, y_pred)\n",
    "print(cm)"
   ]
  },
  {
   "cell_type": "code",
   "execution_count": 61,
   "metadata": {},
   "outputs": [
    {
     "data": {
      "text/plain": [
       "0.9785775492716366"
      ]
     },
     "execution_count": 61,
     "metadata": {},
     "output_type": "execute_result"
    }
   ],
   "source": [
    "from sklearn.metrics import accuracy_score\n",
    "accuracy_score(y_test, y_pred)"
   ]
  },
  {
   "cell_type": "code",
   "execution_count": 81,
   "metadata": {},
   "outputs": [
    {
     "data": {
      "text/plain": [
       "CPT4\n",
       "99213    5460\n",
       "99214    2814\n",
       "99000     893\n",
       "36415     823\n",
       "99203     802\n",
       "         ... \n",
       "62140       1\n",
       "43235       1\n",
       "92610       1\n",
       "43246       1\n",
       "92567       1\n",
       "Name: CPT4, Length: 307, dtype: int64"
      ]
     },
     "execution_count": 81,
     "metadata": {},
     "output_type": "execute_result"
    }
   ],
   "source": [
    "y.groupby(y, as_index=True).size().sort_values(ascending=False)"
   ]
  },
  {
   "cell_type": "code",
   "execution_count": 77,
   "metadata": {},
   "outputs": [
    {
     "data": {
      "text/plain": [
       "99213    31.191088\n",
       "99214    16.075407\n",
       "99000     5.101400\n",
       "36415     4.701514\n",
       "99203     4.581548\n",
       "           ...    \n",
       "81003     0.005713\n",
       "64595     0.005713\n",
       "76857     0.005713\n",
       "31571     0.005713\n",
       "73660     0.005713\n",
       "Name: CPT4, Length: 307, dtype: float64"
      ]
     },
     "execution_count": 77,
     "metadata": {},
     "output_type": "execute_result"
    }
   ],
   "source": [
    "y.value_counts(normalize=True) * 100"
   ]
  },
  {
   "cell_type": "code",
   "execution_count": null,
   "metadata": {},
   "outputs": [],
   "source": []
  },
  {
   "cell_type": "code",
   "execution_count": null,
   "metadata": {},
   "outputs": [],
   "source": []
  },
  {
   "cell_type": "code",
   "execution_count": null,
   "metadata": {},
   "outputs": [],
   "source": []
  },
  {
   "cell_type": "code",
   "execution_count": null,
   "metadata": {},
   "outputs": [],
   "source": []
  },
  {
   "cell_type": "code",
   "execution_count": null,
   "metadata": {},
   "outputs": [],
   "source": []
  },
  {
   "cell_type": "code",
   "execution_count": null,
   "metadata": {},
   "outputs": [],
   "source": []
  },
  {
   "cell_type": "code",
   "execution_count": null,
   "metadata": {},
   "outputs": [],
   "source": []
  },
  {
   "cell_type": "code",
   "execution_count": null,
   "metadata": {},
   "outputs": [],
   "source": []
  },
  {
   "cell_type": "code",
   "execution_count": null,
   "metadata": {},
   "outputs": [],
   "source": []
  },
  {
   "cell_type": "code",
   "execution_count": null,
   "metadata": {},
   "outputs": [],
   "source": []
  },
  {
   "cell_type": "code",
   "execution_count": null,
   "metadata": {},
   "outputs": [],
   "source": []
  },
  {
   "cell_type": "code",
   "execution_count": null,
   "metadata": {},
   "outputs": [],
   "source": []
  },
  {
   "cell_type": "code",
   "execution_count": null,
   "metadata": {},
   "outputs": [],
   "source": []
  },
  {
   "cell_type": "code",
   "execution_count": null,
   "metadata": {},
   "outputs": [],
   "source": []
  },
  {
   "cell_type": "code",
   "execution_count": null,
   "metadata": {},
   "outputs": [],
   "source": []
  }
 ],
 "metadata": {
  "kernelspec": {
   "display_name": "Python 3",
   "language": "python",
   "name": "python3"
  },
  "language_info": {
   "codemirror_mode": {
    "name": "ipython",
    "version": 3
   },
   "file_extension": ".py",
   "mimetype": "text/x-python",
   "name": "python",
   "nbconvert_exporter": "python",
   "pygments_lexer": "ipython3",
   "version": "3.7.4"
  }
 },
 "nbformat": 4,
 "nbformat_minor": 2
}
